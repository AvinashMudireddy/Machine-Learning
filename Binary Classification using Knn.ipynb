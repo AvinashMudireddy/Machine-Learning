{
 "cells": [
  {
   "cell_type": "code",
   "execution_count": 1,
   "metadata": {
    "id": "YFo8KVcryZFe"
   },
   "outputs": [],
   "source": [
    "from sklearn.datasets import load_breast_cancer\n",
    "dataset = load_breast_cancer()"
   ]
  },
  {
   "cell_type": "code",
   "execution_count": 2,
   "metadata": {
    "colab": {
     "base_uri": "https://localhost:8080/"
    },
    "id": "at4RW8lvbTRW",
    "outputId": "5635e387-b5ac-415b-8297-044645bb8edd"
   },
   "outputs": [
    {
     "name": "stdout",
     "output_type": "stream",
     "text": [
      "[0 0 0 0 0 0 0 0 0 0 0 0 0 0 0 0 0 0 0 1 1 1 0 0 0 0 0 0 0 0 0 0 0 0 0 0 0\n",
      " 1 0 0 0 0 0 0 0 0 1 0 1 1 1 1 1 0 0 1 0 0 1 1 1 1 0 1 0 0 1 1 1 1 0 1 0 0\n",
      " 1 0 1 0 0 1 1 1 0 0 1 0 0 0 1 1 1 0 1 1 0 0 1 1 1 0 0 1 1 1 1 0 1 1 0 1 1\n",
      " 1 1 1 1 1 1 0 0 0 1 0 0 1 1 1 0 0 1 0 1 0 0 1 0 0 1 1 0 1 1 0 1 1 1 1 0 1\n",
      " 1 1 1 1 1 1 1 1 0 1 1 1 1 0 0 1 0 1 1 0 0 1 1 0 0 1 1 1 1 0 1 1 0 0 0 1 0\n",
      " 1 0 1 1 1 0 1 1 0 0 1 0 0 0 0 1 0 0 0 1 0 1 0 1 1 0 1 0 0 0 0 1 1 0 0 1 1\n",
      " 1 0 1 1 1 1 1 0 0 1 1 0 1 1 0 0 1 0 1 1 1 1 0 1 1 1 1 1 0 1 0 0 0 0 0 0 0\n",
      " 0 0 0 0 0 0 0 1 1 1 1 1 1 0 1 0 1 1 0 1 1 0 1 0 0 1 1 1 1 1 1 1 1 1 1 1 1\n",
      " 1 0 1 1 0 1 0 1 1 1 1 1 1 1 1 1 1 1 1 1 1 0 1 1 1 0 1 0 1 1 1 1 0 0 0 1 1\n",
      " 1 1 0 1 0 1 0 1 1 1 0 1 1 1 1 1 1 1 0 0 0 1 1 1 1 1 1 1 1 1 1 1 0 0 1 0 0\n",
      " 0 1 0 0 1 1 1 1 1 0 1 1 1 1 1 0 1 1 1 0 1 1 0 0 1 1 1 1 1 1 0 1 1 1 1 1 1\n",
      " 1 0 1 1 1 1 1 0 1 1 0 1 1 1 1 1 1 1 1 1 1 1 1 0 1 0 0 1 0 1 1 1 1 1 0 1 1\n",
      " 0 1 0 1 1 0 1 0 1 1 1 1 1 1 1 1 0 0 1 1 1 1 1 1 0 1 1 1 1 1 1 1 1 1 1 0 1\n",
      " 1 1 1 1 1 1 0 1 0 1 1 0 1 1 1 1 1 0 0 1 0 1 0 1 1 1 1 1 0 1 1 0 1 0 1 0 0\n",
      " 1 1 1 0 1 1 1 1 1 1 1 1 1 1 1 0 1 0 0 1 1 1 1 1 1 1 1 1 1 1 1 1 1 1 1 1 1\n",
      " 1 1 1 1 1 1 1 0 0 0 0 0 0 1]\n",
      "['malignant' 'benign']\n",
      "[[1.799e+01 1.038e+01 1.228e+02 ... 2.654e-01 4.601e-01 1.189e-01]\n",
      " [2.057e+01 1.777e+01 1.329e+02 ... 1.860e-01 2.750e-01 8.902e-02]\n",
      " [1.969e+01 2.125e+01 1.300e+02 ... 2.430e-01 3.613e-01 8.758e-02]\n",
      " ...\n",
      " [1.660e+01 2.808e+01 1.083e+02 ... 1.418e-01 2.218e-01 7.820e-02]\n",
      " [2.060e+01 2.933e+01 1.401e+02 ... 2.650e-01 4.087e-01 1.240e-01]\n",
      " [7.760e+00 2.454e+01 4.792e+01 ... 0.000e+00 2.871e-01 7.039e-02]]\n"
     ]
    }
   ],
   "source": [
    "print(dataset.target)\n",
    "print(dataset.target_names)\n",
    "print(dataset.data)"
   ]
  },
  {
   "cell_type": "code",
   "execution_count": 3,
   "metadata": {
    "colab": {
     "base_uri": "https://localhost:8080/"
    },
    "id": "Aww5MLTURnes",
    "outputId": "aa49c994-955d-4689-b125-1dde41088266"
   },
   "outputs": [
    {
     "name": "stdout",
     "output_type": "stream",
     "text": [
      ".. _breast_cancer_dataset:\n",
      "\n",
      "Breast cancer wisconsin (diagnostic) dataset\n",
      "--------------------------------------------\n",
      "\n",
      "**Data Set Characteristics:**\n",
      "\n",
      "    :Number of Instances: 569\n",
      "\n",
      "    :Number of Attributes: 30 numeric, predictive attributes and the class\n",
      "\n",
      "    :Attribute Information:\n",
      "        - radius (mean of distances from center to points on the perimeter)\n",
      "        - texture (standard deviation of gray-scale values)\n",
      "        - perimeter\n",
      "        - area\n",
      "        - smoothness (local variation in radius lengths)\n",
      "        - compactness (perimeter^2 / area - 1.0)\n",
      "        - concavity (severity of concave portions of the contour)\n",
      "        - concave points (number of concave portions of the contour)\n",
      "        - symmetry \n",
      "        - fractal dimension (\"coastline approximation\" - 1)\n",
      "\n",
      "        The mean, standard error, and \"worst\" or largest (mean of the three\n",
      "        largest values) of these features were computed for each image,\n",
      "        resulting in 30 features.  For instance, field 3 is Mean Radius, field\n",
      "        13 is Radius SE, field 23 is Worst Radius.\n",
      "\n",
      "        - class:\n",
      "                - WDBC-Malignant\n",
      "                - WDBC-Benign\n",
      "\n",
      "    :Summary Statistics:\n",
      "\n",
      "    ===================================== ====== ======\n",
      "                                           Min    Max\n",
      "    ===================================== ====== ======\n",
      "    radius (mean):                        6.981  28.11\n",
      "    texture (mean):                       9.71   39.28\n",
      "    perimeter (mean):                     43.79  188.5\n",
      "    area (mean):                          143.5  2501.0\n",
      "    smoothness (mean):                    0.053  0.163\n",
      "    compactness (mean):                   0.019  0.345\n",
      "    concavity (mean):                     0.0    0.427\n",
      "    concave points (mean):                0.0    0.201\n",
      "    symmetry (mean):                      0.106  0.304\n",
      "    fractal dimension (mean):             0.05   0.097\n",
      "    radius (standard error):              0.112  2.873\n",
      "    texture (standard error):             0.36   4.885\n",
      "    perimeter (standard error):           0.757  21.98\n",
      "    area (standard error):                6.802  542.2\n",
      "    smoothness (standard error):          0.002  0.031\n",
      "    compactness (standard error):         0.002  0.135\n",
      "    concavity (standard error):           0.0    0.396\n",
      "    concave points (standard error):      0.0    0.053\n",
      "    symmetry (standard error):            0.008  0.079\n",
      "    fractal dimension (standard error):   0.001  0.03\n",
      "    radius (worst):                       7.93   36.04\n",
      "    texture (worst):                      12.02  49.54\n",
      "    perimeter (worst):                    50.41  251.2\n",
      "    area (worst):                         185.2  4254.0\n",
      "    smoothness (worst):                   0.071  0.223\n",
      "    compactness (worst):                  0.027  1.058\n",
      "    concavity (worst):                    0.0    1.252\n",
      "    concave points (worst):               0.0    0.291\n",
      "    symmetry (worst):                     0.156  0.664\n",
      "    fractal dimension (worst):            0.055  0.208\n",
      "    ===================================== ====== ======\n",
      "\n",
      "    :Missing Attribute Values: None\n",
      "\n",
      "    :Class Distribution: 212 - Malignant, 357 - Benign\n",
      "\n",
      "    :Creator:  Dr. William H. Wolberg, W. Nick Street, Olvi L. Mangasarian\n",
      "\n",
      "    :Donor: Nick Street\n",
      "\n",
      "    :Date: November, 1995\n",
      "\n",
      "This is a copy of UCI ML Breast Cancer Wisconsin (Diagnostic) datasets.\n",
      "https://goo.gl/U2Uwz2\n",
      "\n",
      "Features are computed from a digitized image of a fine needle\n",
      "aspirate (FNA) of a breast mass.  They describe\n",
      "characteristics of the cell nuclei present in the image.\n",
      "\n",
      "Separating plane described above was obtained using\n",
      "Multisurface Method-Tree (MSM-T) [K. P. Bennett, \"Decision Tree\n",
      "Construction Via Linear Programming.\" Proceedings of the 4th\n",
      "Midwest Artificial Intelligence and Cognitive Science Society,\n",
      "pp. 97-101, 1992], a classification method which uses linear\n",
      "programming to construct a decision tree.  Relevant features\n",
      "were selected using an exhaustive search in the space of 1-4\n",
      "features and 1-3 separating planes.\n",
      "\n",
      "The actual linear program used to obtain the separating plane\n",
      "in the 3-dimensional space is that described in:\n",
      "[K. P. Bennett and O. L. Mangasarian: \"Robust Linear\n",
      "Programming Discrimination of Two Linearly Inseparable Sets\",\n",
      "Optimization Methods and Software 1, 1992, 23-34].\n",
      "\n",
      "This database is also available through the UW CS ftp server:\n",
      "\n",
      "ftp ftp.cs.wisc.edu\n",
      "cd math-prog/cpo-dataset/machine-learn/WDBC/\n",
      "\n",
      ".. topic:: References\n",
      "\n",
      "   - W.N. Street, W.H. Wolberg and O.L. Mangasarian. Nuclear feature extraction \n",
      "     for breast tumor diagnosis. IS&T/SPIE 1993 International Symposium on \n",
      "     Electronic Imaging: Science and Technology, volume 1905, pages 861-870,\n",
      "     San Jose, CA, 1993.\n",
      "   - O.L. Mangasarian, W.N. Street and W.H. Wolberg. Breast cancer diagnosis and \n",
      "     prognosis via linear programming. Operations Research, 43(4), pages 570-577, \n",
      "     July-August 1995.\n",
      "   - W.H. Wolberg, W.N. Street, and O.L. Mangasarian. Machine learning techniques\n",
      "     to diagnose breast cancer from fine-needle aspirates. Cancer Letters 77 (1994) \n",
      "     163-171.\n"
     ]
    }
   ],
   "source": [
    "print(dataset.DESCR)"
   ]
  },
  {
   "cell_type": "code",
   "execution_count": 4,
   "metadata": {
    "id": "yZzZ_NRkRrNi"
   },
   "outputs": [],
   "source": [
    "import pandas as pd\n",
    "import numpy as np"
   ]
  },
  {
   "cell_type": "code",
   "execution_count": 5,
   "metadata": {
    "colab": {
     "base_uri": "https://localhost:8080/",
     "height": 258
    },
    "id": "idWmGHPfRteA",
    "outputId": "c8fb8f1c-fdd4-4127-f10b-b67744f29f7e"
   },
   "outputs": [
    {
     "data": {
      "text/html": [
       "<div>\n",
       "<style scoped>\n",
       "    .dataframe tbody tr th:only-of-type {\n",
       "        vertical-align: middle;\n",
       "    }\n",
       "\n",
       "    .dataframe tbody tr th {\n",
       "        vertical-align: top;\n",
       "    }\n",
       "\n",
       "    .dataframe thead th {\n",
       "        text-align: right;\n",
       "    }\n",
       "</style>\n",
       "<table border=\"1\" class=\"dataframe\">\n",
       "  <thead>\n",
       "    <tr style=\"text-align: right;\">\n",
       "      <th></th>\n",
       "      <th>mean radius</th>\n",
       "      <th>mean texture</th>\n",
       "      <th>mean perimeter</th>\n",
       "      <th>mean area</th>\n",
       "      <th>mean smoothness</th>\n",
       "      <th>mean compactness</th>\n",
       "      <th>mean concavity</th>\n",
       "      <th>mean concave points</th>\n",
       "      <th>mean symmetry</th>\n",
       "      <th>mean fractal dimension</th>\n",
       "      <th>radius error</th>\n",
       "      <th>texture error</th>\n",
       "      <th>perimeter error</th>\n",
       "      <th>area error</th>\n",
       "      <th>smoothness error</th>\n",
       "      <th>compactness error</th>\n",
       "      <th>concavity error</th>\n",
       "      <th>concave points error</th>\n",
       "      <th>symmetry error</th>\n",
       "      <th>fractal dimension error</th>\n",
       "      <th>worst radius</th>\n",
       "      <th>worst texture</th>\n",
       "      <th>worst perimeter</th>\n",
       "      <th>worst area</th>\n",
       "      <th>worst smoothness</th>\n",
       "      <th>worst compactness</th>\n",
       "      <th>worst concavity</th>\n",
       "      <th>worst concave points</th>\n",
       "      <th>worst symmetry</th>\n",
       "      <th>worst fractal dimension</th>\n",
       "      <th>target</th>\n",
       "    </tr>\n",
       "  </thead>\n",
       "  <tbody>\n",
       "    <tr>\n",
       "      <th>0</th>\n",
       "      <td>17.99</td>\n",
       "      <td>10.38</td>\n",
       "      <td>122.80</td>\n",
       "      <td>1001.0</td>\n",
       "      <td>0.11840</td>\n",
       "      <td>0.27760</td>\n",
       "      <td>0.3001</td>\n",
       "      <td>0.14710</td>\n",
       "      <td>0.2419</td>\n",
       "      <td>0.07871</td>\n",
       "      <td>1.0950</td>\n",
       "      <td>0.9053</td>\n",
       "      <td>8.589</td>\n",
       "      <td>153.40</td>\n",
       "      <td>0.006399</td>\n",
       "      <td>0.04904</td>\n",
       "      <td>0.05373</td>\n",
       "      <td>0.01587</td>\n",
       "      <td>0.03003</td>\n",
       "      <td>0.006193</td>\n",
       "      <td>25.38</td>\n",
       "      <td>17.33</td>\n",
       "      <td>184.60</td>\n",
       "      <td>2019.0</td>\n",
       "      <td>0.1622</td>\n",
       "      <td>0.6656</td>\n",
       "      <td>0.7119</td>\n",
       "      <td>0.2654</td>\n",
       "      <td>0.4601</td>\n",
       "      <td>0.11890</td>\n",
       "      <td>0</td>\n",
       "    </tr>\n",
       "    <tr>\n",
       "      <th>1</th>\n",
       "      <td>20.57</td>\n",
       "      <td>17.77</td>\n",
       "      <td>132.90</td>\n",
       "      <td>1326.0</td>\n",
       "      <td>0.08474</td>\n",
       "      <td>0.07864</td>\n",
       "      <td>0.0869</td>\n",
       "      <td>0.07017</td>\n",
       "      <td>0.1812</td>\n",
       "      <td>0.05667</td>\n",
       "      <td>0.5435</td>\n",
       "      <td>0.7339</td>\n",
       "      <td>3.398</td>\n",
       "      <td>74.08</td>\n",
       "      <td>0.005225</td>\n",
       "      <td>0.01308</td>\n",
       "      <td>0.01860</td>\n",
       "      <td>0.01340</td>\n",
       "      <td>0.01389</td>\n",
       "      <td>0.003532</td>\n",
       "      <td>24.99</td>\n",
       "      <td>23.41</td>\n",
       "      <td>158.80</td>\n",
       "      <td>1956.0</td>\n",
       "      <td>0.1238</td>\n",
       "      <td>0.1866</td>\n",
       "      <td>0.2416</td>\n",
       "      <td>0.1860</td>\n",
       "      <td>0.2750</td>\n",
       "      <td>0.08902</td>\n",
       "      <td>0</td>\n",
       "    </tr>\n",
       "    <tr>\n",
       "      <th>2</th>\n",
       "      <td>19.69</td>\n",
       "      <td>21.25</td>\n",
       "      <td>130.00</td>\n",
       "      <td>1203.0</td>\n",
       "      <td>0.10960</td>\n",
       "      <td>0.15990</td>\n",
       "      <td>0.1974</td>\n",
       "      <td>0.12790</td>\n",
       "      <td>0.2069</td>\n",
       "      <td>0.05999</td>\n",
       "      <td>0.7456</td>\n",
       "      <td>0.7869</td>\n",
       "      <td>4.585</td>\n",
       "      <td>94.03</td>\n",
       "      <td>0.006150</td>\n",
       "      <td>0.04006</td>\n",
       "      <td>0.03832</td>\n",
       "      <td>0.02058</td>\n",
       "      <td>0.02250</td>\n",
       "      <td>0.004571</td>\n",
       "      <td>23.57</td>\n",
       "      <td>25.53</td>\n",
       "      <td>152.50</td>\n",
       "      <td>1709.0</td>\n",
       "      <td>0.1444</td>\n",
       "      <td>0.4245</td>\n",
       "      <td>0.4504</td>\n",
       "      <td>0.2430</td>\n",
       "      <td>0.3613</td>\n",
       "      <td>0.08758</td>\n",
       "      <td>0</td>\n",
       "    </tr>\n",
       "    <tr>\n",
       "      <th>3</th>\n",
       "      <td>11.42</td>\n",
       "      <td>20.38</td>\n",
       "      <td>77.58</td>\n",
       "      <td>386.1</td>\n",
       "      <td>0.14250</td>\n",
       "      <td>0.28390</td>\n",
       "      <td>0.2414</td>\n",
       "      <td>0.10520</td>\n",
       "      <td>0.2597</td>\n",
       "      <td>0.09744</td>\n",
       "      <td>0.4956</td>\n",
       "      <td>1.1560</td>\n",
       "      <td>3.445</td>\n",
       "      <td>27.23</td>\n",
       "      <td>0.009110</td>\n",
       "      <td>0.07458</td>\n",
       "      <td>0.05661</td>\n",
       "      <td>0.01867</td>\n",
       "      <td>0.05963</td>\n",
       "      <td>0.009208</td>\n",
       "      <td>14.91</td>\n",
       "      <td>26.50</td>\n",
       "      <td>98.87</td>\n",
       "      <td>567.7</td>\n",
       "      <td>0.2098</td>\n",
       "      <td>0.8663</td>\n",
       "      <td>0.6869</td>\n",
       "      <td>0.2575</td>\n",
       "      <td>0.6638</td>\n",
       "      <td>0.17300</td>\n",
       "      <td>0</td>\n",
       "    </tr>\n",
       "    <tr>\n",
       "      <th>4</th>\n",
       "      <td>20.29</td>\n",
       "      <td>14.34</td>\n",
       "      <td>135.10</td>\n",
       "      <td>1297.0</td>\n",
       "      <td>0.10030</td>\n",
       "      <td>0.13280</td>\n",
       "      <td>0.1980</td>\n",
       "      <td>0.10430</td>\n",
       "      <td>0.1809</td>\n",
       "      <td>0.05883</td>\n",
       "      <td>0.7572</td>\n",
       "      <td>0.7813</td>\n",
       "      <td>5.438</td>\n",
       "      <td>94.44</td>\n",
       "      <td>0.011490</td>\n",
       "      <td>0.02461</td>\n",
       "      <td>0.05688</td>\n",
       "      <td>0.01885</td>\n",
       "      <td>0.01756</td>\n",
       "      <td>0.005115</td>\n",
       "      <td>22.54</td>\n",
       "      <td>16.67</td>\n",
       "      <td>152.20</td>\n",
       "      <td>1575.0</td>\n",
       "      <td>0.1374</td>\n",
       "      <td>0.2050</td>\n",
       "      <td>0.4000</td>\n",
       "      <td>0.1625</td>\n",
       "      <td>0.2364</td>\n",
       "      <td>0.07678</td>\n",
       "      <td>0</td>\n",
       "    </tr>\n",
       "  </tbody>\n",
       "</table>\n",
       "</div>"
      ],
      "text/plain": [
       "   mean radius  mean texture  ...  worst fractal dimension  target\n",
       "0        17.99         10.38  ...                  0.11890       0\n",
       "1        20.57         17.77  ...                  0.08902       0\n",
       "2        19.69         21.25  ...                  0.08758       0\n",
       "3        11.42         20.38  ...                  0.17300       0\n",
       "4        20.29         14.34  ...                  0.07678       0\n",
       "\n",
       "[5 rows x 31 columns]"
      ]
     },
     "execution_count": 5,
     "metadata": {
      "tags": []
     },
     "output_type": "execute_result"
    }
   ],
   "source": [
    "df = pd.DataFrame(dataset.data,columns=dataset.feature_names)\n",
    "df['target'] = dataset.target\n",
    "df.head()"
   ]
  },
  {
   "cell_type": "code",
   "execution_count": 6,
   "metadata": {
    "id": "A5equ6ied8eg"
   },
   "outputs": [],
   "source": [
    "df['target_names'] = df['target'].apply(lambda x: 'Malignant' if x == 0 else 'Benign')"
   ]
  },
  {
   "cell_type": "code",
   "execution_count": 7,
   "metadata": {
    "colab": {
     "base_uri": "https://localhost:8080/",
     "height": 400
    },
    "id": "y-xoN1SPR9S-",
    "outputId": "8fe43724-8037-4594-88a8-140e107b81ae"
   },
   "outputs": [
    {
     "data": {
      "text/plain": [
       "<seaborn.axisgrid.FacetGrid at 0x7f394a13a668>"
      ]
     },
     "execution_count": 7,
     "metadata": {
      "tags": []
     },
     "output_type": "execute_result"
    },
    {
     "data": {
      "image/png": "[encoded data removed]",
      "text/plain": [
       "<Figure size 445.625x360 with 1 Axes>"
      ]
     },
     "metadata": {
      "needs_background": "light",
      "tags": []
     },
     "output_type": "display_data"
    }
   ],
   "source": [
    "import seaborn\n",
    "seaborn.lmplot(x = 'mean compactness',y = 'mean concavity',data = df,hue='target_names')"
   ]
  },
  {
   "cell_type": "code",
   "execution_count": 8,
   "metadata": {
    "colab": {
     "base_uri": "https://localhost:8080/",
     "height": 400
    },
    "id": "lpIEN8bOR_Es",
    "outputId": "d75d9c62-bd6d-4879-d119-7b486737a649"
   },
   "outputs": [
    {
     "data": {
      "text/plain": [
       "<seaborn.axisgrid.FacetGrid at 0x7f394a278e80>"
      ]
     },
     "execution_count": 8,
     "metadata": {
      "tags": []
     },
     "output_type": "execute_result"
    },
    {
     "data": {
      "image/png": "[encoded data removed]",
      "text/plain": [
       "<Figure size 445.625x360 with 1 Axes>"
      ]
     },
     "metadata": {
      "needs_background": "light",
      "tags": []
     },
     "output_type": "display_data"
    }
   ],
   "source": [
    "seaborn.lmplot(x = 'mean smoothness',y= 'mean area',data = df,hue='target_names')"
   ]
  },
  {
   "cell_type": "code",
   "execution_count": 9,
   "metadata": {
    "id": "7tR1vY_2SBp6"
   },
   "outputs": [],
   "source": [
    "columns = df.columns.drop(['target','target_names'])"
   ]
  },
  {
   "cell_type": "code",
   "execution_count": 10,
   "metadata": {
    "id": "5NmwtRj0SEUo"
   },
   "outputs": [],
   "source": [
    "from sklearn.preprocessing import StandardScaler\n",
    "df_scaled = df.copy()\n",
    "df_scaled[columns] = StandardScaler().fit_transform(df_scaled[columns])"
   ]
  },
  {
   "cell_type": "code",
   "execution_count": 11,
   "metadata": {
    "colab": {
     "base_uri": "https://localhost:8080/",
     "height": 400
    },
    "id": "dayXPNKFSGN-",
    "outputId": "8d345789-5bd6-4bed-d66c-580c6dfd33e1"
   },
   "outputs": [
    {
     "data": {
      "text/plain": [
       "<seaborn.axisgrid.FacetGrid at 0x7f3949983390>"
      ]
     },
     "execution_count": 11,
     "metadata": {
      "tags": []
     },
     "output_type": "execute_result"
    },
    {
     "data": {
      "image/png": "[encoded data removed]",
      "text/plain": [
       "<Figure size 445.625x360 with 1 Axes>"
      ]
     },
     "metadata": {
      "needs_background": "light",
      "tags": []
     },
     "output_type": "display_data"
    }
   ],
   "source": [
    "seaborn.lmplot(x = 'mean smoothness',y= 'mean area',data = df,hue='target_names')"
   ]
  },
  {
   "cell_type": "code",
   "execution_count": 12,
   "metadata": {
    "colab": {
     "base_uri": "https://localhost:8080/",
     "height": 400
    },
    "id": "fzjTXXFOSJMg",
    "outputId": "b74af107-fbd9-4474-efd1-dbb87725cac8"
   },
   "outputs": [
    {
     "data": {
      "text/plain": [
       "<seaborn.axisgrid.FacetGrid at 0x7f3940bcbe10>"
      ]
     },
     "execution_count": 12,
     "metadata": {
      "tags": []
     },
     "output_type": "execute_result"
    },
    {
     "data": {
      "image/png": "[encoded data removed]",
      "text/plain": [
       "<Figure size 445.625x360 with 1 Axes>"
      ]
     },
     "metadata": {
      "needs_background": "light",
      "tags": []
     },
     "output_type": "display_data"
    }
   ],
   "source": [
    "seaborn.lmplot(x = 'mean smoothness',y= 'mean area',data = df_scaled,hue='target_names')"
   ]
  },
  {
   "cell_type": "markdown",
   "metadata": {
    "id": "YyqBEQXGq-B0"
   },
   "source": [
    "### Splitting the data"
   ]
  },
  {
   "cell_type": "code",
   "execution_count": 13,
   "metadata": {
    "id": "45JEwA8yq_6R"
   },
   "outputs": [],
   "source": [
    "from sklearn.model_selection import train_test_split\n",
    "x_train,x_test,y_train,y_test = train_test_split(df[columns],df['target'],test_size=0.3,random_state=0,stratify=df['target'])"
   ]
  },
  {
   "cell_type": "code",
   "execution_count": 14,
   "metadata": {
    "colab": {
     "base_uri": "https://localhost:8080/"
    },
    "id": "lty5OSNfSQZb",
    "outputId": "9c153452-246a-4461-df16-a17eb66b58a2"
   },
   "outputs": [
    {
     "name": "stdout",
     "output_type": "stream",
     "text": [
      "complete dataset size: (569, 32)\n",
      "x_train data size: (398, 30)\n",
      "y_train dataset size: (398,)\n",
      "x_test dataset size: (171, 30)\n",
      "y_test data size: (171,)\n"
     ]
    }
   ],
   "source": [
    "print('complete dataset size:',df.shape)\n",
    "print('x_train data size:',x_train.shape)\n",
    "print('y_train dataset size:',y_train.shape)\n",
    "print('x_test dataset size:',x_test.shape)\n",
    "print('y_test data size:',y_test.shape)"
   ]
  },
  {
   "cell_type": "markdown",
   "metadata": {
    "id": "aBmo0-W1yZFs"
   },
   "source": [
    "## KNN Classifier without Standardization"
   ]
  },
  {
   "cell_type": "code",
   "execution_count": 15,
   "metadata": {
    "id": "cyEV-mVSAMaV"
   },
   "outputs": [],
   "source": [
    "from sklearn import neighbors\n",
    "from sklearn.model_selection import cross_val_score \n",
    "import matplotlib.pyplot as plt"
   ]
  },
  {
   "cell_type": "code",
   "execution_count": 16,
   "metadata": {
    "id": "jVPrwis1SxU-"
   },
   "outputs": [],
   "source": [
    "train_scores = []\n",
    "for i in range(1,101):\n",
    "    knn = neighbors.KNeighborsClassifier(n_neighbors=i)\n",
    "    train_score = cross_val_score(knn, x_train, y_train, cv=5,scoring='accuracy')\n",
    "    train_scores.append(train_score.mean())"
   ]
  },
  {
   "cell_type": "code",
   "execution_count": 17,
   "metadata": {
    "colab": {
     "base_uri": "https://localhost:8080/",
     "height": 295
    },
    "id": "k9vEFao7Sz7s",
    "outputId": "887f8c81-cdd6-4375-8995-4f9953684613"
   },
   "outputs": [
    {
     "data": {
      "image/png": "[encoded data removed]",
      "text/plain": [
       "<Figure size 432x288 with 1 Axes>"
      ]
     },
     "metadata": {
      "needs_background": "light",
      "tags": []
     },
     "output_type": "display_data"
    }
   ],
   "source": [
    "plt.plot(np.arange(1,101),train_scores,label='training accuracy')\n",
    "plt.legend()\n",
    "plt.xlabel('K')\n",
    "plt.ylabel('mean cross validation accuracy')\n",
    "plt.title('mean cross validation accuracy vs K')\n",
    "plt.show()"
   ]
  },
  {
   "cell_type": "code",
   "execution_count": 18,
   "metadata": {
    "colab": {
     "base_uri": "https://localhost:8080/"
    },
    "id": "xBfAwCFnS8nZ",
    "outputId": "411f4e32-a1b1-4f34-ca30-a347d784dc4b"
   },
   "outputs": [
    {
     "name": "stdout",
     "output_type": "stream",
     "text": [
      "Best number of nearest neighbors using train data: 8\n",
      "Highest Cross validation Score: 0.9397784810126583\n"
     ]
    }
   ],
   "source": [
    "print('Best number of nearest neighbors using train data:',train_scores.index(max(train_scores))+1) \n",
    "# +1 since the indexing of list starts from 0 and we are testing K's from 1.\n",
    "print('Highest Cross validation Score:',max(train_scores))"
   ]
  },
  {
   "cell_type": "code",
   "execution_count": 19,
   "metadata": {
    "id": "XOUDf1rAS_Rz"
   },
   "outputs": [],
   "source": [
    "from sklearn.model_selection import cross_validate\n",
    "train_scores = []\n",
    "validation_scores = []\n",
    "for i in range(1,101):\n",
    "    knn = neighbors.KNeighborsClassifier(n_neighbors=i)\n",
    "    score = cross_validate(knn, x_train, y_train, cv=5,scoring='accuracy',return_train_score=True)\n",
    "    train_scores.append(score['train_score'].mean())\n",
    "    validation_scores.append(score['test_score'].mean())"
   ]
  },
  {
   "cell_type": "code",
   "execution_count": 20,
   "metadata": {
    "colab": {
     "base_uri": "https://localhost:8080/",
     "height": 295
    },
    "id": "zactAX6HTC4t",
    "outputId": "945bd1a8-4d00-496a-c053-531dc5bd70e2"
   },
   "outputs": [
    {
     "data": {
      "image/png": "[encoded data removed]",
      "text/plain": [
       "<Figure size 432x288 with 1 Axes>"
      ]
     },
     "metadata": {
      "needs_background": "light",
      "tags": []
     },
     "output_type": "display_data"
    }
   ],
   "source": [
    "plt.plot(np.arange(1,101),train_scores,label='training accuracy')\n",
    "plt.plot(np.arange(1,101),validation_scores,label='validation accuracy')\n",
    "plt.legend()\n",
    "plt.xlabel('K')\n",
    "plt.ylabel('mean cross validation accuracy')\n",
    "plt.title('Training accuracy vs Validation accuracy')\n",
    "plt.show()"
   ]
  },
  {
   "cell_type": "markdown",
   "metadata": {
    "id": "2MVQpdmRTHmN"
   },
   "source": [
    "Just to get a closer view, we sweep K values from 1 to 20."
   ]
  },
  {
   "cell_type": "code",
   "execution_count": 21,
   "metadata": {
    "colab": {
     "base_uri": "https://localhost:8080/",
     "height": 295
    },
    "id": "Yt-JABAWTEwd",
    "outputId": "274467d3-833b-4144-cbaa-58dcebf7db58"
   },
   "outputs": [
    {
     "data": {
      "image/png": "[encoded data removed]",
      "text/plain": [
       "<Figure size 432x288 with 1 Axes>"
      ]
     },
     "metadata": {
      "needs_background": "light",
      "tags": []
     },
     "output_type": "display_data"
    }
   ],
   "source": [
    "train_scores = []\n",
    "validation_scores = []\n",
    "for i in range(1,21):\n",
    "    knn = neighbors.KNeighborsClassifier(n_neighbors=i)\n",
    "    score = cross_validate(knn, x_train, y_train, cv=5,scoring='accuracy',return_train_score=True)\n",
    "    train_scores.append(score['train_score'].mean())\n",
    "    validation_scores.append(score['test_score'].mean())\n",
    "plt.plot(np.arange(1,21),train_scores,label='training accuracy')\n",
    "plt.plot(np.arange(1,21),validation_scores,label='validation accuracy')\n",
    "plt.xticks(np.arange(1,21))\n",
    "plt.legend()\n",
    "plt.xlabel('K')\n",
    "plt.ylabel('mean cross validation accuracy')\n",
    "plt.title('mean cross validation accuracy vs K')\n",
    "plt.show()"
   ]
  },
  {
   "cell_type": "markdown",
   "metadata": {
    "id": "8Vwpvg1MTPeJ"
   },
   "source": [
    "**The model gives best results at K = 8**"
   ]
  },
  {
   "cell_type": "markdown",
   "metadata": {
    "id": "VCyFm5S3srCO"
   },
   "source": [
    "## Feature Selection\n"
   ]
  },
  {
   "cell_type": "code",
   "execution_count": 22,
   "metadata": {
    "id": "d63Sd-rmUHXv"
   },
   "outputs": [],
   "source": [
    "def knn(x,y):\n",
    "    scores = []\n",
    "    for k in range(1,51): #for k in range(1,101):        to sweep k from 1 t0 100.\n",
    "        knn = neighbors.KNeighborsClassifier(n_neighbors=k)\n",
    "        score = cross_val_score(knn, x, y_train, cv=5)\n",
    "        scores.append(score.mean())\n",
    "    return max(scores)"
   ]
  },
  {
   "cell_type": "code",
   "execution_count": 23,
   "metadata": {
    "id": "RsI2djX_0oI3"
   },
   "outputs": [],
   "source": [
    "def Feature_selector (training_data, target_data, threshold=0.95):\n",
    "\n",
    "### YOUR CODE HERE ###\n",
    "### HINT: use two nested for loops to implement your function\n",
    "  features = training_data.columns.tolist()\n",
    "  y = np.array(target_data)\n",
    "  scores=[]\n",
    "  Removed_features_list = []\n",
    "  Cross_validation_accuracy = []\n",
    "  highest_cvs = knn(np.array(training_data),y)\n",
    "  print('cv_score with all features is:',highest_cvs)\n",
    "  while(len(features)>0):\n",
    "      print('length of features is',len(features))\n",
    "      for i in features:\n",
    "          X = training_data.drop(i,axis=1)\n",
    "          print('knn running after removal of',i,'feature')\n",
    "          cv = knn(np.array(X),y)\n",
    "          scores.append(cv)\n",
    "      print('length of scores',len(scores))\n",
    "      max_cv = max(scores)\n",
    "      Cross_validation_accuracy.append(max_cv)\n",
    "      if (max_cv >= threshold*highest_cvs):\n",
    "          excluded_feature = features[scores.index(max_cv)]\n",
    "          scores.clear()\n",
    "          Removed_features_list.append(excluded_feature)\n",
    "          features.remove(excluded_feature)\n",
    "          print('feature',excluded_feature,'is removed')\n",
    "      else:\n",
    "          scores.clear()\n",
    "          print('feature',excluded_feature,'is stored')\n",
    "          break           \n",
    "\n",
    "  return Removed_features_list , Cross_validation_accuracy"
   ]
  },
  {
   "cell_type": "code",
   "execution_count": 24,
   "metadata": {
    "colab": {
     "base_uri": "https://localhost:8080/"
    },
    "id": "s8HFFziEURRT",
    "outputId": "b0f7615c-f0ad-4c79-9f3d-fb6dc0634feb"
   },
   "outputs": [
    {
     "name": "stdout",
     "output_type": "stream",
     "text": [
      "cv_score with all features is: 0.9397784810126583\n",
      "length of features is 30\n",
      "knn running after removal of mean radius feature\n",
      "knn running after removal of mean texture feature\n",
      "knn running after removal of mean perimeter feature\n",
      "knn running after removal of mean area feature\n",
      "knn running after removal of mean smoothness feature\n",
      "knn running after removal of mean compactness feature\n",
      "knn running after removal of mean concavity feature\n",
      "knn running after removal of mean concave points feature\n",
      "knn running after removal of mean symmetry feature\n",
      "knn running after removal of mean fractal dimension feature\n",
      "knn running after removal of radius error feature\n",
      "knn running after removal of texture error feature\n",
      "knn running after removal of perimeter error feature\n",
      "knn running after removal of area error feature\n",
      "knn running after removal of smoothness error feature\n",
      "knn running after removal of compactness error feature\n",
      "knn running after removal of concavity error feature\n",
      "knn running after removal of concave points error feature\n",
      "knn running after removal of symmetry error feature\n",
      "knn running after removal of fractal dimension error feature\n",
      "knn running after removal of worst radius feature\n",
      "knn running after removal of worst texture feature\n",
      "knn running after removal of worst perimeter feature\n",
      "knn running after removal of worst area feature\n",
      "knn running after removal of worst smoothness feature\n",
      "knn running after removal of worst compactness feature\n",
      "knn running after removal of worst concavity feature\n",
      "knn running after removal of worst concave points feature\n",
      "knn running after removal of worst symmetry feature\n",
      "knn running after removal of worst fractal dimension feature\n",
      "length of scores 30\n",
      "feature mean radius is removed\n",
      "length of features is 29\n",
      "knn running after removal of mean texture feature\n",
      "knn running after removal of mean perimeter feature\n",
      "knn running after removal of mean area feature\n",
      "knn running after removal of mean smoothness feature\n",
      "knn running after removal of mean compactness feature\n",
      "knn running after removal of mean concavity feature\n",
      "knn running after removal of mean concave points feature\n",
      "knn running after removal of mean symmetry feature\n",
      "knn running after removal of mean fractal dimension feature\n",
      "knn running after removal of radius error feature\n",
      "knn running after removal of texture error feature\n",
      "knn running after removal of perimeter error feature\n",
      "knn running after removal of area error feature\n",
      "knn running after removal of smoothness error feature\n",
      "knn running after removal of compactness error feature\n",
      "knn running after removal of concavity error feature\n",
      "knn running after removal of concave points error feature\n",
      "knn running after removal of symmetry error feature\n",
      "knn running after removal of fractal dimension error feature\n",
      "knn running after removal of worst radius feature\n",
      "knn running after removal of worst texture feature\n",
      "knn running after removal of worst perimeter feature\n",
      "knn running after removal of worst area feature\n",
      "knn running after removal of worst smoothness feature\n",
      "knn running after removal of worst compactness feature\n",
      "knn running after removal of worst concavity feature\n",
      "knn running after removal of worst concave points feature\n",
      "knn running after removal of worst symmetry feature\n",
      "knn running after removal of worst fractal dimension feature\n",
      "length of scores 29\n",
      "feature mean texture is removed\n",
      "length of features is 28\n",
      "knn running after removal of mean perimeter feature\n",
      "knn running after removal of mean area feature\n",
      "knn running after removal of mean smoothness feature\n",
      "knn running after removal of mean compactness feature\n",
      "knn running after removal of mean concavity feature\n",
      "knn running after removal of mean concave points feature\n",
      "knn running after removal of mean symmetry feature\n",
      "knn running after removal of mean fractal dimension feature\n",
      "knn running after removal of radius error feature\n",
      "knn running after removal of texture error feature\n",
      "knn running after removal of perimeter error feature\n",
      "knn running after removal of area error feature\n",
      "knn running after removal of smoothness error feature\n",
      "knn running after removal of compactness error feature\n",
      "knn running after removal of concavity error feature\n",
      "knn running after removal of concave points error feature\n",
      "knn running after removal of symmetry error feature\n",
      "knn running after removal of fractal dimension error feature\n",
      "knn running after removal of worst radius feature\n",
      "knn running after removal of worst texture feature\n",
      "knn running after removal of worst perimeter feature\n",
      "knn running after removal of worst area feature\n",
      "knn running after removal of worst smoothness feature\n",
      "knn running after removal of worst compactness feature\n",
      "knn running after removal of worst concavity feature\n",
      "knn running after removal of worst concave points feature\n",
      "knn running after removal of worst symmetry feature\n",
      "knn running after removal of worst fractal dimension feature\n",
      "length of scores 28\n",
      "feature mean perimeter is removed\n",
      "length of features is 27\n",
      "knn running after removal of mean area feature\n",
      "knn running after removal of mean smoothness feature\n",
      "knn running after removal of mean compactness feature\n",
      "knn running after removal of mean concavity feature\n",
      "knn running after removal of mean concave points feature\n",
      "knn running after removal of mean symmetry feature\n",
      "knn running after removal of mean fractal dimension feature\n",
      "knn running after removal of radius error feature\n",
      "knn running after removal of texture error feature\n",
      "knn running after removal of perimeter error feature\n",
      "knn running after removal of area error feature\n",
      "knn running after removal of smoothness error feature\n",
      "knn running after removal of compactness error feature\n",
      "knn running after removal of concavity error feature\n",
      "knn running after removal of concave points error feature\n",
      "knn running after removal of symmetry error feature\n",
      "knn running after removal of fractal dimension error feature\n",
      "knn running after removal of worst radius feature\n",
      "knn running after removal of worst texture feature\n",
      "knn running after removal of worst perimeter feature\n",
      "knn running after removal of worst area feature\n",
      "knn running after removal of worst smoothness feature\n",
      "knn running after removal of worst compactness feature\n",
      "knn running after removal of worst concavity feature\n",
      "knn running after removal of worst concave points feature\n",
      "knn running after removal of worst symmetry feature\n",
      "knn running after removal of worst fractal dimension feature\n",
      "length of scores 27\n",
      "feature mean smoothness is removed\n",
      "length of features is 26\n",
      "knn running after removal of mean area feature\n",
      "knn running after removal of mean compactness feature\n",
      "knn running after removal of mean concavity feature\n",
      "knn running after removal of mean concave points feature\n",
      "knn running after removal of mean symmetry feature\n",
      "knn running after removal of mean fractal dimension feature\n",
      "knn running after removal of radius error feature\n",
      "knn running after removal of texture error feature\n",
      "knn running after removal of perimeter error feature\n",
      "knn running after removal of area error feature\n",
      "knn running after removal of smoothness error feature\n",
      "knn running after removal of compactness error feature\n",
      "knn running after removal of concavity error feature\n",
      "knn running after removal of concave points error feature\n",
      "knn running after removal of symmetry error feature\n",
      "knn running after removal of fractal dimension error feature\n",
      "knn running after removal of worst radius feature\n",
      "knn running after removal of worst texture feature\n",
      "knn running after removal of worst perimeter feature\n",
      "knn running after removal of worst area feature\n",
      "knn running after removal of worst smoothness feature\n",
      "knn running after removal of worst compactness feature\n",
      "knn running after removal of worst concavity feature\n",
      "knn running after removal of worst concave points feature\n",
      "knn running after removal of worst symmetry feature\n",
      "knn running after removal of worst fractal dimension feature\n",
      "length of scores 26\n",
      "feature mean compactness is removed\n",
      "length of features is 25\n",
      "knn running after removal of mean area feature\n",
      "knn running after removal of mean concavity feature\n",
      "knn running after removal of mean concave points feature\n",
      "knn running after removal of mean symmetry feature\n",
      "knn running after removal of mean fractal dimension feature\n",
      "knn running after removal of radius error feature\n",
      "knn running after removal of texture error feature\n",
      "knn running after removal of perimeter error feature\n",
      "knn running after removal of area error feature\n",
      "knn running after removal of smoothness error feature\n",
      "knn running after removal of compactness error feature\n",
      "knn running after removal of concavity error feature\n",
      "knn running after removal of concave points error feature\n",
      "knn running after removal of symmetry error feature\n",
      "knn running after removal of fractal dimension error feature\n",
      "knn running after removal of worst radius feature\n",
      "knn running after removal of worst texture feature\n",
      "knn running after removal of worst perimeter feature\n",
      "knn running after removal of worst area feature\n",
      "knn running after removal of worst smoothness feature\n",
      "knn running after removal of worst compactness feature\n",
      "knn running after removal of worst concavity feature\n",
      "knn running after removal of worst concave points feature\n",
      "knn running after removal of worst symmetry feature\n",
      "knn running after removal of worst fractal dimension feature\n",
      "length of scores 25\n",
      "feature mean concavity is removed\n",
      "length of features is 24\n",
      "knn running after removal of mean area feature\n",
      "knn running after removal of mean concave points feature\n",
      "knn running after removal of mean symmetry feature\n",
      "knn running after removal of mean fractal dimension feature\n",
      "knn running after removal of radius error feature\n",
      "knn running after removal of texture error feature\n",
      "knn running after removal of perimeter error feature\n",
      "knn running after removal of area error feature\n",
      "knn running after removal of smoothness error feature\n",
      "knn running after removal of compactness error feature\n",
      "knn running after removal of concavity error feature\n",
      "knn running after removal of concave points error feature\n",
      "knn running after removal of symmetry error feature\n",
      "knn running after removal of fractal dimension error feature\n",
      "knn running after removal of worst radius feature\n",
      "knn running after removal of worst texture feature\n",
      "knn running after removal of worst perimeter feature\n",
      "knn running after removal of worst area feature\n",
      "knn running after removal of worst smoothness feature\n",
      "knn running after removal of worst compactness feature\n",
      "knn running after removal of worst concavity feature\n",
      "knn running after removal of worst concave points feature\n",
      "knn running after removal of worst symmetry feature\n",
      "knn running after removal of worst fractal dimension feature\n",
      "length of scores 24\n",
      "feature mean concave points is removed\n",
      "length of features is 23\n",
      "knn running after removal of mean area feature\n",
      "knn running after removal of mean symmetry feature\n",
      "knn running after removal of mean fractal dimension feature\n",
      "knn running after removal of radius error feature\n",
      "knn running after removal of texture error feature\n",
      "knn running after removal of perimeter error feature\n",
      "knn running after removal of area error feature\n",
      "knn running after removal of smoothness error feature\n",
      "knn running after removal of compactness error feature\n",
      "knn running after removal of concavity error feature\n",
      "knn running after removal of concave points error feature\n",
      "knn running after removal of symmetry error feature\n",
      "knn running after removal of fractal dimension error feature\n",
      "knn running after removal of worst radius feature\n",
      "knn running after removal of worst texture feature\n",
      "knn running after removal of worst perimeter feature\n",
      "knn running after removal of worst area feature\n",
      "knn running after removal of worst smoothness feature\n",
      "knn running after removal of worst compactness feature\n",
      "knn running after removal of worst concavity feature\n",
      "knn running after removal of worst concave points feature\n",
      "knn running after removal of worst symmetry feature\n",
      "knn running after removal of worst fractal dimension feature\n",
      "length of scores 23\n",
      "feature mean symmetry is removed\n",
      "length of features is 22\n",
      "knn running after removal of mean area feature\n",
      "knn running after removal of mean fractal dimension feature\n",
      "knn running after removal of radius error feature\n",
      "knn running after removal of texture error feature\n",
      "knn running after removal of perimeter error feature\n",
      "knn running after removal of area error feature\n",
      "knn running after removal of smoothness error feature\n",
      "knn running after removal of compactness error feature\n",
      "knn running after removal of concavity error feature\n",
      "knn running after removal of concave points error feature\n",
      "knn running after removal of symmetry error feature\n",
      "knn running after removal of fractal dimension error feature\n",
      "knn running after removal of worst radius feature\n",
      "knn running after removal of worst texture feature\n",
      "knn running after removal of worst perimeter feature\n",
      "knn running after removal of worst area feature\n",
      "knn running after removal of worst smoothness feature\n",
      "knn running after removal of worst compactness feature\n",
      "knn running after removal of worst concavity feature\n",
      "knn running after removal of worst concave points feature\n",
      "knn running after removal of worst symmetry feature\n",
      "knn running after removal of worst fractal dimension feature\n",
      "length of scores 22\n",
      "feature mean fractal dimension is removed\n",
      "length of features is 21\n",
      "knn running after removal of mean area feature\n",
      "knn running after removal of radius error feature\n",
      "knn running after removal of texture error feature\n",
      "knn running after removal of perimeter error feature\n",
      "knn running after removal of area error feature\n",
      "knn running after removal of smoothness error feature\n",
      "knn running after removal of compactness error feature\n",
      "knn running after removal of concavity error feature\n",
      "knn running after removal of concave points error feature\n",
      "knn running after removal of symmetry error feature\n",
      "knn running after removal of fractal dimension error feature\n",
      "knn running after removal of worst radius feature\n",
      "knn running after removal of worst texture feature\n",
      "knn running after removal of worst perimeter feature\n",
      "knn running after removal of worst area feature\n",
      "knn running after removal of worst smoothness feature\n",
      "knn running after removal of worst compactness feature\n",
      "knn running after removal of worst concavity feature\n",
      "knn running after removal of worst concave points feature\n",
      "knn running after removal of worst symmetry feature\n",
      "knn running after removal of worst fractal dimension feature\n",
      "length of scores 21\n",
      "feature radius error is removed\n",
      "length of features is 20\n",
      "knn running after removal of mean area feature\n",
      "knn running after removal of texture error feature\n",
      "knn running after removal of perimeter error feature\n",
      "knn running after removal of area error feature\n",
      "knn running after removal of smoothness error feature\n",
      "knn running after removal of compactness error feature\n",
      "knn running after removal of concavity error feature\n",
      "knn running after removal of concave points error feature\n",
      "knn running after removal of symmetry error feature\n",
      "knn running after removal of fractal dimension error feature\n",
      "knn running after removal of worst radius feature\n",
      "knn running after removal of worst texture feature\n",
      "knn running after removal of worst perimeter feature\n",
      "knn running after removal of worst area feature\n",
      "knn running after removal of worst smoothness feature\n",
      "knn running after removal of worst compactness feature\n",
      "knn running after removal of worst concavity feature\n",
      "knn running after removal of worst concave points feature\n",
      "knn running after removal of worst symmetry feature\n",
      "knn running after removal of worst fractal dimension feature\n",
      "length of scores 20\n",
      "feature texture error is removed\n",
      "length of features is 19\n",
      "knn running after removal of mean area feature\n",
      "knn running after removal of perimeter error feature\n",
      "knn running after removal of area error feature\n",
      "knn running after removal of smoothness error feature\n",
      "knn running after removal of compactness error feature\n",
      "knn running after removal of concavity error feature\n",
      "knn running after removal of concave points error feature\n",
      "knn running after removal of symmetry error feature\n",
      "knn running after removal of fractal dimension error feature\n",
      "knn running after removal of worst radius feature\n",
      "knn running after removal of worst texture feature\n",
      "knn running after removal of worst perimeter feature\n",
      "knn running after removal of worst area feature\n",
      "knn running after removal of worst smoothness feature\n",
      "knn running after removal of worst compactness feature\n",
      "knn running after removal of worst concavity feature\n",
      "knn running after removal of worst concave points feature\n",
      "knn running after removal of worst symmetry feature\n",
      "knn running after removal of worst fractal dimension feature\n",
      "length of scores 19\n",
      "feature perimeter error is removed\n",
      "length of features is 18\n",
      "knn running after removal of mean area feature\n",
      "knn running after removal of area error feature\n",
      "knn running after removal of smoothness error feature\n",
      "knn running after removal of compactness error feature\n",
      "knn running after removal of concavity error feature\n",
      "knn running after removal of concave points error feature\n",
      "knn running after removal of symmetry error feature\n",
      "knn running after removal of fractal dimension error feature\n",
      "knn running after removal of worst radius feature\n",
      "knn running after removal of worst texture feature\n",
      "knn running after removal of worst perimeter feature\n",
      "knn running after removal of worst area feature\n",
      "knn running after removal of worst smoothness feature\n",
      "knn running after removal of worst compactness feature\n",
      "knn running after removal of worst concavity feature\n",
      "knn running after removal of worst concave points feature\n",
      "knn running after removal of worst symmetry feature\n",
      "knn running after removal of worst fractal dimension feature\n",
      "length of scores 18\n",
      "feature area error is removed\n",
      "length of features is 17\n",
      "knn running after removal of mean area feature\n",
      "knn running after removal of smoothness error feature\n",
      "knn running after removal of compactness error feature\n",
      "knn running after removal of concavity error feature\n",
      "knn running after removal of concave points error feature\n",
      "knn running after removal of symmetry error feature\n",
      "knn running after removal of fractal dimension error feature\n",
      "knn running after removal of worst radius feature\n",
      "knn running after removal of worst texture feature\n",
      "knn running after removal of worst perimeter feature\n",
      "knn running after removal of worst area feature\n",
      "knn running after removal of worst smoothness feature\n",
      "knn running after removal of worst compactness feature\n",
      "knn running after removal of worst concavity feature\n",
      "knn running after removal of worst concave points feature\n",
      "knn running after removal of worst symmetry feature\n",
      "knn running after removal of worst fractal dimension feature\n",
      "length of scores 17\n",
      "feature smoothness error is removed\n",
      "length of features is 16\n",
      "knn running after removal of mean area feature\n",
      "knn running after removal of compactness error feature\n",
      "knn running after removal of concavity error feature\n",
      "knn running after removal of concave points error feature\n",
      "knn running after removal of symmetry error feature\n",
      "knn running after removal of fractal dimension error feature\n",
      "knn running after removal of worst radius feature\n",
      "knn running after removal of worst texture feature\n",
      "knn running after removal of worst perimeter feature\n",
      "knn running after removal of worst area feature\n",
      "knn running after removal of worst smoothness feature\n",
      "knn running after removal of worst compactness feature\n",
      "knn running after removal of worst concavity feature\n",
      "knn running after removal of worst concave points feature\n",
      "knn running after removal of worst symmetry feature\n",
      "knn running after removal of worst fractal dimension feature\n",
      "length of scores 16\n",
      "feature compactness error is removed\n",
      "length of features is 15\n",
      "knn running after removal of mean area feature\n",
      "knn running after removal of concavity error feature\n",
      "knn running after removal of concave points error feature\n",
      "knn running after removal of symmetry error feature\n",
      "knn running after removal of fractal dimension error feature\n",
      "knn running after removal of worst radius feature\n",
      "knn running after removal of worst texture feature\n",
      "knn running after removal of worst perimeter feature\n",
      "knn running after removal of worst area feature\n",
      "knn running after removal of worst smoothness feature\n",
      "knn running after removal of worst compactness feature\n",
      "knn running after removal of worst concavity feature\n",
      "knn running after removal of worst concave points feature\n",
      "knn running after removal of worst symmetry feature\n",
      "knn running after removal of worst fractal dimension feature\n",
      "length of scores 15\n",
      "feature concavity error is removed\n",
      "length of features is 14\n",
      "knn running after removal of mean area feature\n",
      "knn running after removal of concave points error feature\n",
      "knn running after removal of symmetry error feature\n",
      "knn running after removal of fractal dimension error feature\n",
      "knn running after removal of worst radius feature\n",
      "knn running after removal of worst texture feature\n",
      "knn running after removal of worst perimeter feature\n",
      "knn running after removal of worst area feature\n",
      "knn running after removal of worst smoothness feature\n",
      "knn running after removal of worst compactness feature\n",
      "knn running after removal of worst concavity feature\n",
      "knn running after removal of worst concave points feature\n",
      "knn running after removal of worst symmetry feature\n",
      "knn running after removal of worst fractal dimension feature\n",
      "length of scores 14\n",
      "feature concave points error is removed\n",
      "length of features is 13\n",
      "knn running after removal of mean area feature\n",
      "knn running after removal of symmetry error feature\n",
      "knn running after removal of fractal dimension error feature\n",
      "knn running after removal of worst radius feature\n",
      "knn running after removal of worst texture feature\n",
      "knn running after removal of worst perimeter feature\n",
      "knn running after removal of worst area feature\n",
      "knn running after removal of worst smoothness feature\n",
      "knn running after removal of worst compactness feature\n",
      "knn running after removal of worst concavity feature\n",
      "knn running after removal of worst concave points feature\n",
      "knn running after removal of worst symmetry feature\n",
      "knn running after removal of worst fractal dimension feature\n",
      "length of scores 13\n",
      "feature symmetry error is removed\n",
      "length of features is 12\n",
      "knn running after removal of mean area feature\n",
      "knn running after removal of fractal dimension error feature\n",
      "knn running after removal of worst radius feature\n",
      "knn running after removal of worst texture feature\n",
      "knn running after removal of worst perimeter feature\n",
      "knn running after removal of worst area feature\n",
      "knn running after removal of worst smoothness feature\n",
      "knn running after removal of worst compactness feature\n",
      "knn running after removal of worst concavity feature\n",
      "knn running after removal of worst concave points feature\n",
      "knn running after removal of worst symmetry feature\n",
      "knn running after removal of worst fractal dimension feature\n",
      "length of scores 12\n",
      "feature fractal dimension error is removed\n",
      "length of features is 11\n",
      "knn running after removal of mean area feature\n",
      "knn running after removal of worst radius feature\n",
      "knn running after removal of worst texture feature\n",
      "knn running after removal of worst perimeter feature\n",
      "knn running after removal of worst area feature\n",
      "knn running after removal of worst smoothness feature\n",
      "knn running after removal of worst compactness feature\n",
      "knn running after removal of worst concavity feature\n",
      "knn running after removal of worst concave points feature\n",
      "knn running after removal of worst symmetry feature\n",
      "knn running after removal of worst fractal dimension feature\n",
      "length of scores 11\n",
      "feature worst radius is removed\n",
      "length of features is 10\n",
      "knn running after removal of mean area feature\n",
      "knn running after removal of worst texture feature\n",
      "knn running after removal of worst perimeter feature\n",
      "knn running after removal of worst area feature\n",
      "knn running after removal of worst smoothness feature\n",
      "knn running after removal of worst compactness feature\n",
      "knn running after removal of worst concavity feature\n",
      "knn running after removal of worst concave points feature\n",
      "knn running after removal of worst symmetry feature\n",
      "knn running after removal of worst fractal dimension feature\n",
      "length of scores 10\n",
      "feature worst texture is removed\n",
      "length of features is 9\n",
      "knn running after removal of mean area feature\n",
      "knn running after removal of worst perimeter feature\n",
      "knn running after removal of worst area feature\n",
      "knn running after removal of worst smoothness feature\n",
      "knn running after removal of worst compactness feature\n",
      "knn running after removal of worst concavity feature\n",
      "knn running after removal of worst concave points feature\n",
      "knn running after removal of worst symmetry feature\n",
      "knn running after removal of worst fractal dimension feature\n",
      "length of scores 9\n",
      "feature worst perimeter is removed\n",
      "length of features is 8\n",
      "knn running after removal of mean area feature\n",
      "knn running after removal of worst area feature\n",
      "knn running after removal of worst smoothness feature\n",
      "knn running after removal of worst compactness feature\n",
      "knn running after removal of worst concavity feature\n",
      "knn running after removal of worst concave points feature\n",
      "knn running after removal of worst symmetry feature\n",
      "knn running after removal of worst fractal dimension feature\n",
      "length of scores 8\n",
      "feature worst smoothness is removed\n",
      "length of features is 7\n",
      "knn running after removal of mean area feature\n",
      "knn running after removal of worst area feature\n",
      "knn running after removal of worst compactness feature\n",
      "knn running after removal of worst concavity feature\n",
      "knn running after removal of worst concave points feature\n",
      "knn running after removal of worst symmetry feature\n",
      "knn running after removal of worst fractal dimension feature\n",
      "length of scores 7\n",
      "feature worst compactness is removed\n",
      "length of features is 6\n",
      "knn running after removal of mean area feature\n",
      "knn running after removal of worst area feature\n",
      "knn running after removal of worst concavity feature\n",
      "knn running after removal of worst concave points feature\n",
      "knn running after removal of worst symmetry feature\n",
      "knn running after removal of worst fractal dimension feature\n",
      "length of scores 6\n",
      "feature worst concavity is removed\n",
      "length of features is 5\n",
      "knn running after removal of mean area feature\n",
      "knn running after removal of worst area feature\n",
      "knn running after removal of worst concave points feature\n",
      "knn running after removal of worst symmetry feature\n",
      "knn running after removal of worst fractal dimension feature\n",
      "length of scores 5\n",
      "feature worst concave points is removed\n",
      "length of features is 4\n",
      "knn running after removal of mean area feature\n",
      "knn running after removal of worst area feature\n",
      "knn running after removal of worst symmetry feature\n",
      "knn running after removal of worst fractal dimension feature\n",
      "length of scores 4\n",
      "feature worst symmetry is removed\n",
      "length of features is 3\n",
      "knn running after removal of mean area feature\n",
      "knn running after removal of worst area feature\n",
      "knn running after removal of worst fractal dimension feature\n",
      "length of scores 3\n",
      "feature worst fractal dimension is removed\n",
      "length of features is 2\n",
      "knn running after removal of mean area feature\n",
      "knn running after removal of worst area feature\n",
      "length of scores 2\n",
      "feature worst area is removed\n",
      "length of features is 1\n",
      "knn running after removal of mean area feature\n",
      "length of scores 1\n",
      "feature mean area is removed\n"
     ]
    }
   ],
   "source": [
    "removed_list_train,cross_val_train = Feature_selector(x_train,y_train,threshold=0.95)"
   ]
  },
  {
   "cell_type": "code",
   "execution_count": 25,
   "metadata": {
    "colab": {
     "base_uri": "https://localhost:8080/"
    },
    "id": "jd3uf_BGcoaQ",
    "outputId": "c8b4b3af-fcc7-42f8-9849-6bddc56d7708"
   },
   "outputs": [
    {
     "data": {
      "text/plain": [
       "['mean area',\n",
       " 'worst area',\n",
       " 'worst fractal dimension',\n",
       " 'worst symmetry',\n",
       " 'worst concave points',\n",
       " 'worst concavity',\n",
       " 'worst compactness',\n",
       " 'worst smoothness',\n",
       " 'worst perimeter',\n",
       " 'worst texture',\n",
       " 'worst radius',\n",
       " 'fractal dimension error',\n",
       " 'symmetry error',\n",
       " 'concave points error',\n",
       " 'concavity error',\n",
       " 'compactness error',\n",
       " 'smoothness error',\n",
       " 'area error',\n",
       " 'perimeter error',\n",
       " 'texture error',\n",
       " 'radius error',\n",
       " 'mean fractal dimension',\n",
       " 'mean symmetry',\n",
       " 'mean concave points',\n",
       " 'mean concavity',\n",
       " 'mean compactness',\n",
       " 'mean smoothness',\n",
       " 'mean perimeter',\n",
       " 'mean texture',\n",
       " 'mean radius']"
      ]
     },
     "execution_count": 25,
     "metadata": {
      "tags": []
     },
     "output_type": "execute_result"
    }
   ],
   "source": [
    "#features in the order of importance\n",
    "removed_list_train[::-1]"
   ]
  },
  {
   "cell_type": "code",
   "execution_count": 26,
   "metadata": {
    "colab": {
     "base_uri": "https://localhost:8080/"
    },
    "id": "u9oSixiucqkr",
    "outputId": "d569f81a-71db-4758-90e7-0cc8edcdbbb2"
   },
   "outputs": [
    {
     "data": {
      "text/plain": [
       "[0.9321202531645569,\n",
       " 0.9347784810126581,\n",
       " 0.9397784810126583,\n",
       " 0.9397784810126583,\n",
       " 0.9397784810126583,\n",
       " 0.9397784810126583,\n",
       " 0.9397784810126583,\n",
       " 0.9397784810126583,\n",
       " 0.9397784810126583,\n",
       " 0.9397784810126583,\n",
       " 0.9397784810126583,\n",
       " 0.9397784810126583,\n",
       " 0.9397784810126583,\n",
       " 0.9397784810126583,\n",
       " 0.9397784810126583,\n",
       " 0.9397784810126583,\n",
       " 0.9397784810126583,\n",
       " 0.9397784810126583,\n",
       " 0.9397784810126583,\n",
       " 0.9397784810126583,\n",
       " 0.9397784810126583,\n",
       " 0.9397784810126583,\n",
       " 0.9397784810126583,\n",
       " 0.9397784810126583,\n",
       " 0.9397784810126583,\n",
       " 0.9397784810126583,\n",
       " 0.9397784810126583,\n",
       " 0.9397784810126583,\n",
       " 0.9397784810126583,\n",
       " 0.9397784810126583]"
      ]
     },
     "execution_count": 26,
     "metadata": {
      "tags": []
     },
     "output_type": "execute_result"
    }
   ],
   "source": [
    "#cross validation accuracy with respect to features removed (in the same order as above shown features)\n",
    "cross_val_train[::-1]"
   ]
  },
  {
   "cell_type": "code",
   "execution_count": 27,
   "metadata": {
    "colab": {
     "base_uri": "https://localhost:8080/",
     "height": 298
    },
    "id": "ZbletxelcsbL",
    "outputId": "ac0e13fc-0b32-4366-8d79-7379d9b7b0a5"
   },
   "outputs": [
    {
     "data": {
      "image/png": "[encoded data removed]",
      "text/plain": [
       "<Figure size 432x288 with 1 Axes>"
      ]
     },
     "metadata": {
      "needs_background": "light",
      "tags": []
     },
     "output_type": "display_data"
    }
   ],
   "source": [
    "import matplotlib.pyplot as plt\n",
    "n = np.arange(1,31)[::-1]\n",
    "plt.xlabel('Number of Features used for training')\n",
    "plt.ylabel('Cross validation Accuracy')\n",
    "plt.title('Number of features vs Cross validation accuracy')\n",
    "plt.plot(n,cross_val_train)\n",
    "plt.xticks(n,rotation=90)\n",
    "plt.show()"
   ]
  },
  {
   "cell_type": "code",
   "execution_count": 28,
   "metadata": {
    "colab": {
     "base_uri": "https://localhost:8080/",
     "height": 298
    },
    "id": "ytrGNZKCxwjF",
    "outputId": "d8016092-27d2-4689-fc87-792732447fae"
   },
   "outputs": [
    {
     "data": {
      "image/png": "[encoded data removed]",
      "text/plain": [
       "<Figure size 432x288 with 1 Axes>"
      ]
     },
     "metadata": {
      "needs_background": "light",
      "tags": []
     },
     "output_type": "display_data"
    }
   ],
   "source": [
    "n = np.arange(0,30)\n",
    "plt.xlabel('Number of Features removed')\n",
    "plt.ylabel('Cross validation Accuracy')\n",
    "plt.title('Number of features vs Cross validation accuracy')\n",
    "plt.plot(n,cross_val_train)\n",
    "plt.xticks(n,rotation=90)\n",
    "plt.show()"
   ]
  },
  {
   "cell_type": "markdown",
   "metadata": {
    "id": "GTXjb1sWmDZL"
   },
   "source": [
    "## Standardization \n",
    "\n",
    "**Standardization helped the model in improving the accuracy from 93.9% to 97.2% (when all features are included).**\n",
    "\n",
    "**The first 5 important features['worst texture','mean area','worst area','area error','worst fractal dimension']**(Ranking of features were decided from cross validation accuracy vs features removed plot and removed_features list in below cells).\n",
    "\n",
    "**and with K = 9**(Decided using the cross validation score of scaled training data in the last cell of this part 4).\n",
    "\n",
    "**Model was able to achieve an accuracy of 94.7% on scaled training data.**\n"
   ]
  },
  {
   "cell_type": "code",
   "execution_count": 29,
   "metadata": {
    "colab": {
     "base_uri": "https://localhost:8080/",
     "height": 258
    },
    "id": "xAwAGR6_2bu3",
    "outputId": "a7fce32b-13a5-4fa8-a5cf-2ffb8dac4221"
   },
   "outputs": [
    {
     "data": {
      "text/html": [
       "<div>\n",
       "<style scoped>\n",
       "    .dataframe tbody tr th:only-of-type {\n",
       "        vertical-align: middle;\n",
       "    }\n",
       "\n",
       "    .dataframe tbody tr th {\n",
       "        vertical-align: top;\n",
       "    }\n",
       "\n",
       "    .dataframe thead th {\n",
       "        text-align: right;\n",
       "    }\n",
       "</style>\n",
       "<table border=\"1\" class=\"dataframe\">\n",
       "  <thead>\n",
       "    <tr style=\"text-align: right;\">\n",
       "      <th></th>\n",
       "      <th>mean radius</th>\n",
       "      <th>mean texture</th>\n",
       "      <th>mean perimeter</th>\n",
       "      <th>mean area</th>\n",
       "      <th>mean smoothness</th>\n",
       "      <th>mean compactness</th>\n",
       "      <th>mean concavity</th>\n",
       "      <th>mean concave points</th>\n",
       "      <th>mean symmetry</th>\n",
       "      <th>mean fractal dimension</th>\n",
       "      <th>radius error</th>\n",
       "      <th>texture error</th>\n",
       "      <th>perimeter error</th>\n",
       "      <th>area error</th>\n",
       "      <th>smoothness error</th>\n",
       "      <th>compactness error</th>\n",
       "      <th>concavity error</th>\n",
       "      <th>concave points error</th>\n",
       "      <th>symmetry error</th>\n",
       "      <th>fractal dimension error</th>\n",
       "      <th>worst radius</th>\n",
       "      <th>worst texture</th>\n",
       "      <th>worst perimeter</th>\n",
       "      <th>worst area</th>\n",
       "      <th>worst smoothness</th>\n",
       "      <th>worst compactness</th>\n",
       "      <th>worst concavity</th>\n",
       "      <th>worst concave points</th>\n",
       "      <th>worst symmetry</th>\n",
       "      <th>worst fractal dimension</th>\n",
       "    </tr>\n",
       "  </thead>\n",
       "  <tbody>\n",
       "    <tr>\n",
       "      <th>246</th>\n",
       "      <td>-0.249954</td>\n",
       "      <td>-0.419449</td>\n",
       "      <td>-0.307899</td>\n",
       "      <td>-0.311134</td>\n",
       "      <td>-1.715550</td>\n",
       "      <td>-1.107108</td>\n",
       "      <td>-0.578936</td>\n",
       "      <td>-0.965255</td>\n",
       "      <td>-1.164299</td>\n",
       "      <td>-0.902721</td>\n",
       "      <td>-0.829160</td>\n",
       "      <td>0.718430</td>\n",
       "      <td>-0.932424</td>\n",
       "      <td>-0.551815</td>\n",
       "      <td>-0.266229</td>\n",
       "      <td>-0.564208</td>\n",
       "      <td>-0.034861</td>\n",
       "      <td>-1.054533</td>\n",
       "      <td>-0.119939</td>\n",
       "      <td>-0.644252</td>\n",
       "      <td>-0.465473</td>\n",
       "      <td>0.371376</td>\n",
       "      <td>-0.548759</td>\n",
       "      <td>-0.476275</td>\n",
       "      <td>-0.960936</td>\n",
       "      <td>-0.660001</td>\n",
       "      <td>-0.200445</td>\n",
       "      <td>-0.977189</td>\n",
       "      <td>-0.207395</td>\n",
       "      <td>-0.668322</td>\n",
       "    </tr>\n",
       "    <tr>\n",
       "      <th>232</th>\n",
       "      <td>-0.797199</td>\n",
       "      <td>3.420312</td>\n",
       "      <td>-0.842679</td>\n",
       "      <td>-0.737060</td>\n",
       "      <td>-1.309897</td>\n",
       "      <td>-1.285700</td>\n",
       "      <td>-1.069463</td>\n",
       "      <td>-1.082562</td>\n",
       "      <td>0.163002</td>\n",
       "      <td>-0.630025</td>\n",
       "      <td>-0.617289</td>\n",
       "      <td>0.803169</td>\n",
       "      <td>-0.641973</td>\n",
       "      <td>-0.512627</td>\n",
       "      <td>-0.869062</td>\n",
       "      <td>-1.076951</td>\n",
       "      <td>-1.062835</td>\n",
       "      <td>-1.374346</td>\n",
       "      <td>-0.174742</td>\n",
       "      <td>-0.521573</td>\n",
       "      <td>-0.788252</td>\n",
       "      <td>2.679917</td>\n",
       "      <td>-0.837848</td>\n",
       "      <td>-0.703522</td>\n",
       "      <td>-1.407509</td>\n",
       "      <td>-1.181750</td>\n",
       "      <td>-1.209083</td>\n",
       "      <td>-1.273479</td>\n",
       "      <td>0.029067</td>\n",
       "      <td>-0.607161</td>\n",
       "    </tr>\n",
       "    <tr>\n",
       "      <th>15</th>\n",
       "      <td>0.120403</td>\n",
       "      <td>1.950514</td>\n",
       "      <td>0.197216</td>\n",
       "      <td>0.011338</td>\n",
       "      <td>1.281976</td>\n",
       "      <td>1.040878</td>\n",
       "      <td>0.961143</td>\n",
       "      <td>0.625344</td>\n",
       "      <td>1.861057</td>\n",
       "      <td>1.134725</td>\n",
       "      <td>-0.109006</td>\n",
       "      <td>-0.327906</td>\n",
       "      <td>0.013429</td>\n",
       "      <td>-0.160138</td>\n",
       "      <td>-0.473512</td>\n",
       "      <td>0.978584</td>\n",
       "      <td>0.584899</td>\n",
       "      <td>-0.156157</td>\n",
       "      <td>-0.245032</td>\n",
       "      <td>0.744966</td>\n",
       "      <td>0.253628</td>\n",
       "      <td>1.910955</td>\n",
       "      <td>0.503593</td>\n",
       "      <td>0.115159</td>\n",
       "      <td>1.575215</td>\n",
       "      <td>2.567271</td>\n",
       "      <td>2.107578</td>\n",
       "      <td>0.852039</td>\n",
       "      <td>2.175283</td>\n",
       "      <td>2.817258</td>\n",
       "    </tr>\n",
       "    <tr>\n",
       "      <th>128</th>\n",
       "      <td>0.275179</td>\n",
       "      <td>-0.663243</td>\n",
       "      <td>0.311468</td>\n",
       "      <td>0.054536</td>\n",
       "      <td>1.360952</td>\n",
       "      <td>1.439420</td>\n",
       "      <td>0.321040</td>\n",
       "      <td>0.922676</td>\n",
       "      <td>0.741379</td>\n",
       "      <td>0.272838</td>\n",
       "      <td>0.102865</td>\n",
       "      <td>-0.263431</td>\n",
       "      <td>-0.025707</td>\n",
       "      <td>-0.009778</td>\n",
       "      <td>0.603790</td>\n",
       "      <td>0.946816</td>\n",
       "      <td>0.011752</td>\n",
       "      <td>1.745788</td>\n",
       "      <td>0.345886</td>\n",
       "      <td>0.536756</td>\n",
       "      <td>-0.022164</td>\n",
       "      <td>-1.197968</td>\n",
       "      <td>-0.031103</td>\n",
       "      <td>-0.197892</td>\n",
       "      <td>0.291756</td>\n",
       "      <td>0.215418</td>\n",
       "      <td>-0.365443</td>\n",
       "      <td>0.416938</td>\n",
       "      <td>-0.498045</td>\n",
       "      <td>-0.342320</td>\n",
       "    </tr>\n",
       "    <tr>\n",
       "      <th>262</th>\n",
       "      <td>0.880465</td>\n",
       "      <td>0.682314</td>\n",
       "      <td>0.905579</td>\n",
       "      <td>0.806510</td>\n",
       "      <td>-0.434691</td>\n",
       "      <td>0.435547</td>\n",
       "      <td>0.106012</td>\n",
       "      <td>0.661684</td>\n",
       "      <td>1.138086</td>\n",
       "      <td>-1.144332</td>\n",
       "      <td>1.508034</td>\n",
       "      <td>0.777379</td>\n",
       "      <td>1.553857</td>\n",
       "      <td>1.044182</td>\n",
       "      <td>-0.121701</td>\n",
       "      <td>1.984201</td>\n",
       "      <td>0.546491</td>\n",
       "      <td>1.568294</td>\n",
       "      <td>0.815285</td>\n",
       "      <td>0.905660</td>\n",
       "      <td>0.852198</td>\n",
       "      <td>0.275463</td>\n",
       "      <td>0.909021</td>\n",
       "      <td>0.724966</td>\n",
       "      <td>-0.815887</td>\n",
       "      <td>0.205231</td>\n",
       "      <td>-0.200445</td>\n",
       "      <td>0.575020</td>\n",
       "      <td>0.285233</td>\n",
       "      <td>-0.507846</td>\n",
       "    </tr>\n",
       "  </tbody>\n",
       "</table>\n",
       "</div>"
      ],
      "text/plain": [
       "     mean radius  mean texture  ...  worst symmetry  worst fractal dimension\n",
       "246    -0.249954     -0.419449  ...       -0.207395                -0.668322\n",
       "232    -0.797199      3.420312  ...        0.029067                -0.607161\n",
       "15      0.120403      1.950514  ...        2.175283                 2.817258\n",
       "128     0.275179     -0.663243  ...       -0.498045                -0.342320\n",
       "262     0.880465      0.682314  ...        0.285233                -0.507846\n",
       "\n",
       "[5 rows x 30 columns]"
      ]
     },
     "execution_count": 29,
     "metadata": {
      "tags": []
     },
     "output_type": "execute_result"
    }
   ],
   "source": [
    "from sklearn.preprocessing import StandardScaler\n",
    "scaler = StandardScaler().fit(x_train)\n",
    "x_train_scaled = x_train.copy()\n",
    "x_test_scaled = x_test.copy()\n",
    "x_train_scaled[columns] = scaler.transform(x_train) #Scaling the 'Train Dataset'\n",
    "x_test_scaled[columns] = scaler.transform(x_test) #Scaling the 'Test Dataset'\n",
    "x_train_scaled.head()"
   ]
  },
  {
   "cell_type": "code",
   "execution_count": 30,
   "metadata": {
    "colab": {
     "base_uri": "https://localhost:8080/"
    },
    "id": "-stlYCfVc_7W",
    "outputId": "9bf907df-975d-441b-c408-1ef0c8c0d9d9"
   },
   "outputs": [
    {
     "name": "stdout",
     "output_type": "stream",
     "text": [
      "cv_score with all features is: 0.9724050632911393\n",
      "length of features is 30\n",
      "knn running after removal of mean radius feature\n",
      "knn running after removal of mean texture feature\n",
      "knn running after removal of mean perimeter feature\n",
      "knn running after removal of mean area feature\n",
      "knn running after removal of mean smoothness feature\n",
      "knn running after removal of mean compactness feature\n",
      "knn running after removal of mean concavity feature\n",
      "knn running after removal of mean concave points feature\n",
      "knn running after removal of mean symmetry feature\n",
      "knn running after removal of mean fractal dimension feature\n",
      "knn running after removal of radius error feature\n",
      "knn running after removal of texture error feature\n",
      "knn running after removal of perimeter error feature\n",
      "knn running after removal of area error feature\n",
      "knn running after removal of smoothness error feature\n",
      "knn running after removal of compactness error feature\n",
      "knn running after removal of concavity error feature\n",
      "knn running after removal of concave points error feature\n",
      "knn running after removal of symmetry error feature\n",
      "knn running after removal of fractal dimension error feature\n",
      "knn running after removal of worst radius feature\n",
      "knn running after removal of worst texture feature\n",
      "knn running after removal of worst perimeter feature\n",
      "knn running after removal of worst area feature\n",
      "knn running after removal of worst smoothness feature\n",
      "knn running after removal of worst compactness feature\n",
      "knn running after removal of worst concavity feature\n",
      "knn running after removal of worst concave points feature\n",
      "knn running after removal of worst symmetry feature\n",
      "knn running after removal of worst fractal dimension feature\n",
      "length of scores 30\n",
      "feature mean compactness is removed\n",
      "length of features is 29\n",
      "knn running after removal of mean radius feature\n",
      "knn running after removal of mean texture feature\n",
      "knn running after removal of mean perimeter feature\n",
      "knn running after removal of mean area feature\n",
      "knn running after removal of mean smoothness feature\n",
      "knn running after removal of mean concavity feature\n",
      "knn running after removal of mean concave points feature\n",
      "knn running after removal of mean symmetry feature\n",
      "knn running after removal of mean fractal dimension feature\n",
      "knn running after removal of radius error feature\n",
      "knn running after removal of texture error feature\n",
      "knn running after removal of perimeter error feature\n",
      "knn running after removal of area error feature\n",
      "knn running after removal of smoothness error feature\n",
      "knn running after removal of compactness error feature\n",
      "knn running after removal of concavity error feature\n",
      "knn running after removal of concave points error feature\n",
      "knn running after removal of symmetry error feature\n",
      "knn running after removal of fractal dimension error feature\n",
      "knn running after removal of worst radius feature\n",
      "knn running after removal of worst texture feature\n",
      "knn running after removal of worst perimeter feature\n",
      "knn running after removal of worst area feature\n",
      "knn running after removal of worst smoothness feature\n",
      "knn running after removal of worst compactness feature\n",
      "knn running after removal of worst concavity feature\n",
      "knn running after removal of worst concave points feature\n",
      "knn running after removal of worst symmetry feature\n",
      "knn running after removal of worst fractal dimension feature\n",
      "length of scores 29\n",
      "feature worst symmetry is removed\n",
      "length of features is 28\n",
      "knn running after removal of mean radius feature\n",
      "knn running after removal of mean texture feature\n",
      "knn running after removal of mean perimeter feature\n",
      "knn running after removal of mean area feature\n",
      "knn running after removal of mean smoothness feature\n",
      "knn running after removal of mean concavity feature\n",
      "knn running after removal of mean concave points feature\n",
      "knn running after removal of mean symmetry feature\n",
      "knn running after removal of mean fractal dimension feature\n",
      "knn running after removal of radius error feature\n",
      "knn running after removal of texture error feature\n",
      "knn running after removal of perimeter error feature\n",
      "knn running after removal of area error feature\n",
      "knn running after removal of smoothness error feature\n",
      "knn running after removal of compactness error feature\n",
      "knn running after removal of concavity error feature\n",
      "knn running after removal of concave points error feature\n",
      "knn running after removal of symmetry error feature\n",
      "knn running after removal of fractal dimension error feature\n",
      "knn running after removal of worst radius feature\n",
      "knn running after removal of worst texture feature\n",
      "knn running after removal of worst perimeter feature\n",
      "knn running after removal of worst area feature\n",
      "knn running after removal of worst smoothness feature\n",
      "knn running after removal of worst compactness feature\n",
      "knn running after removal of worst concavity feature\n",
      "knn running after removal of worst concave points feature\n",
      "knn running after removal of worst fractal dimension feature\n",
      "length of scores 28\n",
      "feature mean concavity is removed\n",
      "length of features is 27\n",
      "knn running after removal of mean radius feature\n",
      "knn running after removal of mean texture feature\n",
      "knn running after removal of mean perimeter feature\n",
      "knn running after removal of mean area feature\n",
      "knn running after removal of mean smoothness feature\n",
      "knn running after removal of mean concave points feature\n",
      "knn running after removal of mean symmetry feature\n",
      "knn running after removal of mean fractal dimension feature\n",
      "knn running after removal of radius error feature\n",
      "knn running after removal of texture error feature\n",
      "knn running after removal of perimeter error feature\n",
      "knn running after removal of area error feature\n",
      "knn running after removal of smoothness error feature\n",
      "knn running after removal of compactness error feature\n",
      "knn running after removal of concavity error feature\n",
      "knn running after removal of concave points error feature\n",
      "knn running after removal of symmetry error feature\n",
      "knn running after removal of fractal dimension error feature\n",
      "knn running after removal of worst radius feature\n",
      "knn running after removal of worst texture feature\n",
      "knn running after removal of worst perimeter feature\n",
      "knn running after removal of worst area feature\n",
      "knn running after removal of worst smoothness feature\n",
      "knn running after removal of worst compactness feature\n",
      "knn running after removal of worst concavity feature\n",
      "knn running after removal of worst concave points feature\n",
      "knn running after removal of worst fractal dimension feature\n",
      "length of scores 27\n",
      "feature radius error is removed\n",
      "length of features is 26\n",
      "knn running after removal of mean radius feature\n",
      "knn running after removal of mean texture feature\n",
      "knn running after removal of mean perimeter feature\n",
      "knn running after removal of mean area feature\n",
      "knn running after removal of mean smoothness feature\n",
      "knn running after removal of mean concave points feature\n",
      "knn running after removal of mean symmetry feature\n",
      "knn running after removal of mean fractal dimension feature\n",
      "knn running after removal of texture error feature\n",
      "knn running after removal of perimeter error feature\n",
      "knn running after removal of area error feature\n",
      "knn running after removal of smoothness error feature\n",
      "knn running after removal of compactness error feature\n",
      "knn running after removal of concavity error feature\n",
      "knn running after removal of concave points error feature\n",
      "knn running after removal of symmetry error feature\n",
      "knn running after removal of fractal dimension error feature\n",
      "knn running after removal of worst radius feature\n",
      "knn running after removal of worst texture feature\n",
      "knn running after removal of worst perimeter feature\n",
      "knn running after removal of worst area feature\n",
      "knn running after removal of worst smoothness feature\n",
      "knn running after removal of worst compactness feature\n",
      "knn running after removal of worst concavity feature\n",
      "knn running after removal of worst concave points feature\n",
      "knn running after removal of worst fractal dimension feature\n",
      "length of scores 26\n",
      "feature texture error is removed\n",
      "length of features is 25\n",
      "knn running after removal of mean radius feature\n",
      "knn running after removal of mean texture feature\n",
      "knn running after removal of mean perimeter feature\n",
      "knn running after removal of mean area feature\n",
      "knn running after removal of mean smoothness feature\n",
      "knn running after removal of mean concave points feature\n",
      "knn running after removal of mean symmetry feature\n",
      "knn running after removal of mean fractal dimension feature\n",
      "knn running after removal of perimeter error feature\n",
      "knn running after removal of area error feature\n",
      "knn running after removal of smoothness error feature\n",
      "knn running after removal of compactness error feature\n",
      "knn running after removal of concavity error feature\n",
      "knn running after removal of concave points error feature\n",
      "knn running after removal of symmetry error feature\n",
      "knn running after removal of fractal dimension error feature\n",
      "knn running after removal of worst radius feature\n",
      "knn running after removal of worst texture feature\n",
      "knn running after removal of worst perimeter feature\n",
      "knn running after removal of worst area feature\n",
      "knn running after removal of worst smoothness feature\n",
      "knn running after removal of worst compactness feature\n",
      "knn running after removal of worst concavity feature\n",
      "knn running after removal of worst concave points feature\n",
      "knn running after removal of worst fractal dimension feature\n",
      "length of scores 25\n",
      "feature perimeter error is removed\n",
      "length of features is 24\n",
      "knn running after removal of mean radius feature\n",
      "knn running after removal of mean texture feature\n",
      "knn running after removal of mean perimeter feature\n",
      "knn running after removal of mean area feature\n",
      "knn running after removal of mean smoothness feature\n",
      "knn running after removal of mean concave points feature\n",
      "knn running after removal of mean symmetry feature\n",
      "knn running after removal of mean fractal dimension feature\n",
      "knn running after removal of area error feature\n",
      "knn running after removal of smoothness error feature\n",
      "knn running after removal of compactness error feature\n",
      "knn running after removal of concavity error feature\n",
      "knn running after removal of concave points error feature\n",
      "knn running after removal of symmetry error feature\n",
      "knn running after removal of fractal dimension error feature\n",
      "knn running after removal of worst radius feature\n",
      "knn running after removal of worst texture feature\n",
      "knn running after removal of worst perimeter feature\n",
      "knn running after removal of worst area feature\n",
      "knn running after removal of worst smoothness feature\n",
      "knn running after removal of worst compactness feature\n",
      "knn running after removal of worst concavity feature\n",
      "knn running after removal of worst concave points feature\n",
      "knn running after removal of worst fractal dimension feature\n",
      "length of scores 24\n",
      "feature smoothness error is removed\n",
      "length of features is 23\n",
      "knn running after removal of mean radius feature\n",
      "knn running after removal of mean texture feature\n",
      "knn running after removal of mean perimeter feature\n",
      "knn running after removal of mean area feature\n",
      "knn running after removal of mean smoothness feature\n",
      "knn running after removal of mean concave points feature\n",
      "knn running after removal of mean symmetry feature\n",
      "knn running after removal of mean fractal dimension feature\n",
      "knn running after removal of area error feature\n",
      "knn running after removal of compactness error feature\n",
      "knn running after removal of concavity error feature\n",
      "knn running after removal of concave points error feature\n",
      "knn running after removal of symmetry error feature\n",
      "knn running after removal of fractal dimension error feature\n",
      "knn running after removal of worst radius feature\n",
      "knn running after removal of worst texture feature\n",
      "knn running after removal of worst perimeter feature\n",
      "knn running after removal of worst area feature\n",
      "knn running after removal of worst smoothness feature\n",
      "knn running after removal of worst compactness feature\n",
      "knn running after removal of worst concavity feature\n",
      "knn running after removal of worst concave points feature\n",
      "knn running after removal of worst fractal dimension feature\n",
      "length of scores 23\n",
      "feature worst smoothness is removed\n",
      "length of features is 22\n",
      "knn running after removal of mean radius feature\n",
      "knn running after removal of mean texture feature\n",
      "knn running after removal of mean perimeter feature\n",
      "knn running after removal of mean area feature\n",
      "knn running after removal of mean smoothness feature\n",
      "knn running after removal of mean concave points feature\n",
      "knn running after removal of mean symmetry feature\n",
      "knn running after removal of mean fractal dimension feature\n",
      "knn running after removal of area error feature\n",
      "knn running after removal of compactness error feature\n",
      "knn running after removal of concavity error feature\n",
      "knn running after removal of concave points error feature\n",
      "knn running after removal of symmetry error feature\n",
      "knn running after removal of fractal dimension error feature\n",
      "knn running after removal of worst radius feature\n",
      "knn running after removal of worst texture feature\n",
      "knn running after removal of worst perimeter feature\n",
      "knn running after removal of worst area feature\n",
      "knn running after removal of worst compactness feature\n",
      "knn running after removal of worst concavity feature\n",
      "knn running after removal of worst concave points feature\n",
      "knn running after removal of worst fractal dimension feature\n",
      "length of scores 22\n",
      "feature worst compactness is removed\n",
      "length of features is 21\n",
      "knn running after removal of mean radius feature\n",
      "knn running after removal of mean texture feature\n",
      "knn running after removal of mean perimeter feature\n",
      "knn running after removal of mean area feature\n",
      "knn running after removal of mean smoothness feature\n",
      "knn running after removal of mean concave points feature\n",
      "knn running after removal of mean symmetry feature\n",
      "knn running after removal of mean fractal dimension feature\n",
      "knn running after removal of area error feature\n",
      "knn running after removal of compactness error feature\n",
      "knn running after removal of concavity error feature\n",
      "knn running after removal of concave points error feature\n",
      "knn running after removal of symmetry error feature\n",
      "knn running after removal of fractal dimension error feature\n",
      "knn running after removal of worst radius feature\n",
      "knn running after removal of worst texture feature\n",
      "knn running after removal of worst perimeter feature\n",
      "knn running after removal of worst area feature\n",
      "knn running after removal of worst concavity feature\n",
      "knn running after removal of worst concave points feature\n",
      "knn running after removal of worst fractal dimension feature\n",
      "length of scores 21\n",
      "feature mean concave points is removed\n",
      "length of features is 20\n",
      "knn running after removal of mean radius feature\n",
      "knn running after removal of mean texture feature\n",
      "knn running after removal of mean perimeter feature\n",
      "knn running after removal of mean area feature\n",
      "knn running after removal of mean smoothness feature\n",
      "knn running after removal of mean symmetry feature\n",
      "knn running after removal of mean fractal dimension feature\n",
      "knn running after removal of area error feature\n",
      "knn running after removal of compactness error feature\n",
      "knn running after removal of concavity error feature\n",
      "knn running after removal of concave points error feature\n",
      "knn running after removal of symmetry error feature\n",
      "knn running after removal of fractal dimension error feature\n",
      "knn running after removal of worst radius feature\n",
      "knn running after removal of worst texture feature\n",
      "knn running after removal of worst perimeter feature\n",
      "knn running after removal of worst area feature\n",
      "knn running after removal of worst concavity feature\n",
      "knn running after removal of worst concave points feature\n",
      "knn running after removal of worst fractal dimension feature\n",
      "length of scores 20\n",
      "feature mean symmetry is removed\n",
      "length of features is 19\n",
      "knn running after removal of mean radius feature\n",
      "knn running after removal of mean texture feature\n",
      "knn running after removal of mean perimeter feature\n",
      "knn running after removal of mean area feature\n",
      "knn running after removal of mean smoothness feature\n",
      "knn running after removal of mean fractal dimension feature\n",
      "knn running after removal of area error feature\n",
      "knn running after removal of compactness error feature\n",
      "knn running after removal of concavity error feature\n",
      "knn running after removal of concave points error feature\n",
      "knn running after removal of symmetry error feature\n",
      "knn running after removal of fractal dimension error feature\n",
      "knn running after removal of worst radius feature\n",
      "knn running after removal of worst texture feature\n",
      "knn running after removal of worst perimeter feature\n",
      "knn running after removal of worst area feature\n",
      "knn running after removal of worst concavity feature\n",
      "knn running after removal of worst concave points feature\n",
      "knn running after removal of worst fractal dimension feature\n",
      "length of scores 19\n",
      "feature compactness error is removed\n",
      "length of features is 18\n",
      "knn running after removal of mean radius feature\n",
      "knn running after removal of mean texture feature\n",
      "knn running after removal of mean perimeter feature\n",
      "knn running after removal of mean area feature\n",
      "knn running after removal of mean smoothness feature\n",
      "knn running after removal of mean fractal dimension feature\n",
      "knn running after removal of area error feature\n",
      "knn running after removal of concavity error feature\n",
      "knn running after removal of concave points error feature\n",
      "knn running after removal of symmetry error feature\n",
      "knn running after removal of fractal dimension error feature\n",
      "knn running after removal of worst radius feature\n",
      "knn running after removal of worst texture feature\n",
      "knn running after removal of worst perimeter feature\n",
      "knn running after removal of worst area feature\n",
      "knn running after removal of worst concavity feature\n",
      "knn running after removal of worst concave points feature\n",
      "knn running after removal of worst fractal dimension feature\n",
      "length of scores 18\n",
      "feature concavity error is removed\n",
      "length of features is 17\n",
      "knn running after removal of mean radius feature\n",
      "knn running after removal of mean texture feature\n",
      "knn running after removal of mean perimeter feature\n",
      "knn running after removal of mean area feature\n",
      "knn running after removal of mean smoothness feature\n",
      "knn running after removal of mean fractal dimension feature\n",
      "knn running after removal of area error feature\n",
      "knn running after removal of concave points error feature\n",
      "knn running after removal of symmetry error feature\n",
      "knn running after removal of fractal dimension error feature\n",
      "knn running after removal of worst radius feature\n",
      "knn running after removal of worst texture feature\n",
      "knn running after removal of worst perimeter feature\n",
      "knn running after removal of worst area feature\n",
      "knn running after removal of worst concavity feature\n",
      "knn running after removal of worst concave points feature\n",
      "knn running after removal of worst fractal dimension feature\n",
      "length of scores 17\n",
      "feature symmetry error is removed\n",
      "length of features is 16\n",
      "knn running after removal of mean radius feature\n",
      "knn running after removal of mean texture feature\n",
      "knn running after removal of mean perimeter feature\n",
      "knn running after removal of mean area feature\n",
      "knn running after removal of mean smoothness feature\n",
      "knn running after removal of mean fractal dimension feature\n",
      "knn running after removal of area error feature\n",
      "knn running after removal of concave points error feature\n",
      "knn running after removal of fractal dimension error feature\n",
      "knn running after removal of worst radius feature\n",
      "knn running after removal of worst texture feature\n",
      "knn running after removal of worst perimeter feature\n",
      "knn running after removal of worst area feature\n",
      "knn running after removal of worst concavity feature\n",
      "knn running after removal of worst concave points feature\n",
      "knn running after removal of worst fractal dimension feature\n",
      "length of scores 16\n",
      "feature fractal dimension error is removed\n",
      "length of features is 15\n",
      "knn running after removal of mean radius feature\n",
      "knn running after removal of mean texture feature\n",
      "knn running after removal of mean perimeter feature\n",
      "knn running after removal of mean area feature\n",
      "knn running after removal of mean smoothness feature\n",
      "knn running after removal of mean fractal dimension feature\n",
      "knn running after removal of area error feature\n",
      "knn running after removal of concave points error feature\n",
      "knn running after removal of worst radius feature\n",
      "knn running after removal of worst texture feature\n",
      "knn running after removal of worst perimeter feature\n",
      "knn running after removal of worst area feature\n",
      "knn running after removal of worst concavity feature\n",
      "knn running after removal of worst concave points feature\n",
      "knn running after removal of worst fractal dimension feature\n",
      "length of scores 15\n",
      "feature worst concavity is removed\n",
      "length of features is 14\n",
      "knn running after removal of mean radius feature\n",
      "knn running after removal of mean texture feature\n",
      "knn running after removal of mean perimeter feature\n",
      "knn running after removal of mean area feature\n",
      "knn running after removal of mean smoothness feature\n",
      "knn running after removal of mean fractal dimension feature\n",
      "knn running after removal of area error feature\n",
      "knn running after removal of concave points error feature\n",
      "knn running after removal of worst radius feature\n",
      "knn running after removal of worst texture feature\n",
      "knn running after removal of worst perimeter feature\n",
      "knn running after removal of worst area feature\n",
      "knn running after removal of worst concave points feature\n",
      "knn running after removal of worst fractal dimension feature\n",
      "length of scores 14\n",
      "feature worst concave points is removed\n",
      "length of features is 13\n",
      "knn running after removal of mean radius feature\n",
      "knn running after removal of mean texture feature\n",
      "knn running after removal of mean perimeter feature\n",
      "knn running after removal of mean area feature\n",
      "knn running after removal of mean smoothness feature\n",
      "knn running after removal of mean fractal dimension feature\n",
      "knn running after removal of area error feature\n",
      "knn running after removal of concave points error feature\n",
      "knn running after removal of worst radius feature\n",
      "knn running after removal of worst texture feature\n",
      "knn running after removal of worst perimeter feature\n",
      "knn running after removal of worst area feature\n",
      "knn running after removal of worst fractal dimension feature\n",
      "length of scores 13\n",
      "feature worst fractal dimension is removed\n",
      "length of features is 12\n",
      "knn running after removal of mean radius feature\n",
      "knn running after removal of mean texture feature\n",
      "knn running after removal of mean perimeter feature\n",
      "knn running after removal of mean area feature\n",
      "knn running after removal of mean smoothness feature\n",
      "knn running after removal of mean fractal dimension feature\n",
      "knn running after removal of area error feature\n",
      "knn running after removal of concave points error feature\n",
      "knn running after removal of worst radius feature\n",
      "knn running after removal of worst texture feature\n",
      "knn running after removal of worst perimeter feature\n",
      "knn running after removal of worst area feature\n",
      "length of scores 12\n",
      "feature mean radius is removed\n",
      "length of features is 11\n",
      "knn running after removal of mean texture feature\n",
      "knn running after removal of mean perimeter feature\n",
      "knn running after removal of mean area feature\n",
      "knn running after removal of mean smoothness feature\n",
      "knn running after removal of mean fractal dimension feature\n",
      "knn running after removal of area error feature\n",
      "knn running after removal of concave points error feature\n",
      "knn running after removal of worst radius feature\n",
      "knn running after removal of worst texture feature\n",
      "knn running after removal of worst perimeter feature\n",
      "knn running after removal of worst area feature\n",
      "length of scores 11\n",
      "feature mean texture is removed\n",
      "length of features is 10\n",
      "knn running after removal of mean perimeter feature\n",
      "knn running after removal of mean area feature\n",
      "knn running after removal of mean smoothness feature\n",
      "knn running after removal of mean fractal dimension feature\n",
      "knn running after removal of area error feature\n",
      "knn running after removal of concave points error feature\n",
      "knn running after removal of worst radius feature\n",
      "knn running after removal of worst texture feature\n",
      "knn running after removal of worst perimeter feature\n",
      "knn running after removal of worst area feature\n",
      "length of scores 10\n",
      "feature mean perimeter is removed\n",
      "length of features is 9\n",
      "knn running after removal of mean area feature\n",
      "knn running after removal of mean smoothness feature\n",
      "knn running after removal of mean fractal dimension feature\n",
      "knn running after removal of area error feature\n",
      "knn running after removal of concave points error feature\n",
      "knn running after removal of worst radius feature\n",
      "knn running after removal of worst texture feature\n",
      "knn running after removal of worst perimeter feature\n",
      "knn running after removal of worst area feature\n",
      "length of scores 9\n",
      "feature mean smoothness is removed\n",
      "length of features is 8\n",
      "knn running after removal of mean area feature\n",
      "knn running after removal of mean fractal dimension feature\n",
      "knn running after removal of area error feature\n",
      "knn running after removal of concave points error feature\n",
      "knn running after removal of worst radius feature\n",
      "knn running after removal of worst texture feature\n",
      "knn running after removal of worst perimeter feature\n",
      "knn running after removal of worst area feature\n",
      "length of scores 8\n",
      "feature concave points error is removed\n",
      "length of features is 7\n",
      "knn running after removal of mean area feature\n",
      "knn running after removal of mean fractal dimension feature\n",
      "knn running after removal of area error feature\n",
      "knn running after removal of worst radius feature\n",
      "knn running after removal of worst texture feature\n",
      "knn running after removal of worst perimeter feature\n",
      "knn running after removal of worst area feature\n",
      "length of scores 7\n",
      "feature worst radius is removed\n",
      "length of features is 6\n",
      "knn running after removal of mean area feature\n",
      "knn running after removal of mean fractal dimension feature\n",
      "knn running after removal of area error feature\n",
      "knn running after removal of worst texture feature\n",
      "knn running after removal of worst perimeter feature\n",
      "knn running after removal of worst area feature\n",
      "length of scores 6\n",
      "feature worst perimeter is removed\n",
      "length of features is 5\n",
      "knn running after removal of mean area feature\n",
      "knn running after removal of mean fractal dimension feature\n",
      "knn running after removal of area error feature\n",
      "knn running after removal of worst texture feature\n",
      "knn running after removal of worst area feature\n",
      "length of scores 5\n",
      "feature mean fractal dimension is removed\n",
      "length of features is 4\n",
      "knn running after removal of mean area feature\n",
      "knn running after removal of area error feature\n",
      "knn running after removal of worst texture feature\n",
      "knn running after removal of worst area feature\n",
      "length of scores 4\n",
      "feature area error is removed\n",
      "length of features is 3\n",
      "knn running after removal of mean area feature\n",
      "knn running after removal of worst texture feature\n",
      "knn running after removal of worst area feature\n",
      "length of scores 3\n",
      "feature worst area is removed\n",
      "length of features is 2\n",
      "knn running after removal of mean area feature\n",
      "knn running after removal of worst texture feature\n",
      "length of scores 2\n",
      "feature mean area is removed\n",
      "length of features is 1\n",
      "knn running after removal of worst texture feature\n",
      "length of scores 1\n",
      "feature worst texture is removed\n"
     ]
    }
   ],
   "source": [
    "removed_features_scaled,cross_val_scaled = Feature_selector(x_train_scaled,y_train,threshold=0.95)"
   ]
  },
  {
   "cell_type": "code",
   "execution_count": 31,
   "metadata": {
    "colab": {
     "base_uri": "https://localhost:8080/",
     "height": 298
    },
    "id": "dIGVSMCfdDPa",
    "outputId": "738766dd-17f9-4882-cf53-58dcc50d016e"
   },
   "outputs": [
    {
     "data": {
      "image/png": "[encoded data removed]",
      "text/plain": [
       "<Figure size 432x288 with 1 Axes>"
      ]
     },
     "metadata": {
      "needs_background": "light",
      "tags": []
     },
     "output_type": "display_data"
    }
   ],
   "source": [
    "plt.title('Cross validation accuracy vs number of features for standardized and original data')\n",
    "plt.xlabel('Number of Features removed')\n",
    "plt.ylabel('cross validation accuracy')\n",
    "plt.plot(np.arange(0,30),cross_val_scaled,label='standardized data')\n",
    "plt.plot(np.arange(0,30),cross_val_train,label='original data')\n",
    "plt.xticks(np.arange(0,30),rotation=90)\n",
    "plt.legend()\n",
    "plt.show()"
   ]
  },
  {
   "cell_type": "code",
   "execution_count": 32,
   "metadata": {
    "colab": {
     "base_uri": "https://localhost:8080/",
     "height": 404
    },
    "id": "fVKyRUQ5dBfv",
    "outputId": "a5accd1b-c330-4e62-9137-fea7ceff0ba3"
   },
   "outputs": [
    {
     "data": {
      "image/png": "[encoded data removed]",
      "text/plain": [
       "<Figure size 432x288 with 1 Axes>"
      ]
     },
     "metadata": {
      "needs_background": "light",
      "tags": []
     },
     "output_type": "display_data"
    }
   ],
   "source": [
    "plt.plot(removed_features_scaled,cross_val_scaled,label='standardized data')\n",
    "plt.xticks(rotation=90)\n",
    "plt.ylabel('cross validation accuracy')\n",
    "plt.title('cross validation accuracy vs features removed')\n",
    "plt.xlabel('features removed in that iteration')\n",
    "plt.show()"
   ]
  },
  {
   "cell_type": "markdown",
   "metadata": {
    "id": "faiApwnQdFaA"
   },
   "source": [
    "From the above plot, we can see there are so many redundant features in the dataset."
   ]
  },
  {
   "cell_type": "code",
   "execution_count": 33,
   "metadata": {
    "colab": {
     "base_uri": "https://localhost:8080/",
     "height": 298
    },
    "id": "dP6W6IZP0V2a",
    "outputId": "13320678-0bd6-429b-ad4a-604b1851e994"
   },
   "outputs": [
    {
     "data": {
      "image/png": "[encoded data removed]",
      "text/plain": [
       "<Figure size 432x288 with 1 Axes>"
      ]
     },
     "metadata": {
      "needs_background": "light",
      "tags": []
     },
     "output_type": "display_data"
    }
   ],
   "source": [
    "plt.title('Cross validation accuracy vs number of features for standardized and original data')\n",
    "plt.xlabel('Number of Features used for training')\n",
    "plt.ylabel('cross validation accuracy')\n",
    "plt.plot(np.arange(1,31)[::-1],cross_val_scaled,label='standardized data')\n",
    "plt.plot(np.arange(1,31)[::-1],cross_val_train,label='original data')\n",
    "plt.xticks(np.arange(1,31)[::-1],rotation=90)\n",
    "plt.legend()\n",
    "plt.show()"
   ]
  },
  {
   "cell_type": "code",
   "execution_count": 34,
   "metadata": {
    "colab": {
     "base_uri": "https://localhost:8080/"
    },
    "id": "8o_lOZPwdKCz",
    "outputId": "bb8442f2-5acf-4962-83eb-b673271ecb71"
   },
   "outputs": [
    {
     "data": {
      "text/plain": [
       "['worst texture',\n",
       " 'mean area',\n",
       " 'worst area',\n",
       " 'area error',\n",
       " 'mean fractal dimension',\n",
       " 'worst perimeter',\n",
       " 'worst radius',\n",
       " 'concave points error',\n",
       " 'mean smoothness',\n",
       " 'mean perimeter',\n",
       " 'mean texture',\n",
       " 'mean radius',\n",
       " 'worst fractal dimension',\n",
       " 'worst concave points',\n",
       " 'worst concavity',\n",
       " 'fractal dimension error',\n",
       " 'symmetry error',\n",
       " 'concavity error',\n",
       " 'compactness error',\n",
       " 'mean symmetry',\n",
       " 'mean concave points',\n",
       " 'worst compactness',\n",
       " 'worst smoothness',\n",
       " 'smoothness error',\n",
       " 'perimeter error',\n",
       " 'texture error',\n",
       " 'radius error',\n",
       " 'mean concavity',\n",
       " 'worst symmetry',\n",
       " 'mean compactness']"
      ]
     },
     "execution_count": 34,
     "metadata": {
      "tags": []
     },
     "output_type": "execute_result"
    }
   ],
   "source": [
    "removed_features_scaled[::-1] #In the order of most important to least important"
   ]
  },
  {
   "cell_type": "code",
   "execution_count": 35,
   "metadata": {
    "colab": {
     "base_uri": "https://localhost:8080/"
    },
    "id": "GS2xAMasdLC2",
    "outputId": "fd779336-4a94-4c61-ab29-7ce09dd61f0b"
   },
   "outputs": [
    {
     "data": {
      "text/plain": [
       "[0.9674050632911392,\n",
       " 0.9699050632911392,\n",
       " 0.9724050632911393,\n",
       " 0.9724050632911393,\n",
       " 0.9724050632911393,\n",
       " 0.9724367088607595,\n",
       " 0.9724367088607595,\n",
       " 0.9724367088607595,\n",
       " 0.9724367088607595,\n",
       " 0.9724367088607595,\n",
       " 0.9724367088607595,\n",
       " 0.9724367088607595,\n",
       " 0.9749050632911394,\n",
       " 0.9749050632911394,\n",
       " 0.9749050632911394,\n",
       " 0.9749050632911394,\n",
       " 0.9749050632911394,\n",
       " 0.9749050632911394,\n",
       " 0.9749050632911394,\n",
       " 0.9749050632911394,\n",
       " 0.9749050632911394,\n",
       " 0.9749367088607596,\n",
       " 0.9749367088607596,\n",
       " 0.9749367088607596,\n",
       " 0.9749367088607596,\n",
       " 0.9749367088607596,\n",
       " 0.9749367088607596,\n",
       " 0.9749367088607596,\n",
       " 0.9774050632911392,\n",
       " 0.9774367088607596]"
      ]
     },
     "execution_count": 35,
     "metadata": {
      "tags": []
     },
     "output_type": "execute_result"
    }
   ],
   "source": [
    "cross_val_scaled[::-1] #Cross val score of model when the feature is removed, in the same order as removed_features displayed above"
   ]
  },
  {
   "cell_type": "code",
   "execution_count": 36,
   "metadata": {
    "colab": {
     "base_uri": "https://localhost:8080/"
    },
    "id": "fWQwc_S9dQXa",
    "outputId": "342773c9-54a5-4f50-aaeb-dc0463f54fb8"
   },
   "outputs": [
    {
     "name": "stdout",
     "output_type": "stream",
     "text": [
      "Best number of nearest neighbors using scaled train data: 9\n",
      "max accuracy: 0.9472784810126583\n"
     ]
    }
   ],
   "source": [
    "# finding the best K for scaled data.\n",
    "ss = []\n",
    "for i in range(1,101):\n",
    "    knn = neighbors.KNeighborsClassifier(n_neighbors=i)\n",
    "    s1 = cross_val_score(knn,np.array(x_train_scaled[['worst texture','mean area','worst area','area error','mean fractal dimension']]), np.array(y_train), cv=5)\n",
    "    ss.append(s1.mean())\n",
    "print('Best number of nearest neighbors using scaled train data:',ss.index(max(ss))+1) # +1 since the indexing of list starts from 0 and we are testing K's from 1.\n",
    "print('max accuracy:',max(ss))"
   ]
  },
  {
   "cell_type": "code",
   "execution_count": 37,
   "metadata": {
    "colab": {
     "base_uri": "https://localhost:8080/",
     "height": 298
    },
    "id": "v-exFOqWk6tu",
    "outputId": "1d987ef2-f911-4406-d777-5134ce66d71f"
   },
   "outputs": [
    {
     "data": {
      "image/png": "[encoded data removed]",
      "text/plain": [
       "<Figure size 432x288 with 1 Axes>"
      ]
     },
     "metadata": {
      "needs_background": "light",
      "tags": []
     },
     "output_type": "display_data"
    }
   ],
   "source": [
    "train_scores = []\n",
    "validation_scores = []\n",
    "for i in range(1,51):\n",
    "    knn = neighbors.KNeighborsClassifier(n_neighbors=i)\n",
    "    score = cross_validate(knn, x_train_scaled[['worst texture','mean area','worst area','area error','mean fractal dimension']], y_train, cv=5,scoring='accuracy',return_train_score=True)\n",
    "    train_scores.append(score['train_score'].mean())\n",
    "    validation_scores.append(score['test_score'].mean())\n",
    "plt.plot(np.arange(1,51),train_scores,label='training accuracy')\n",
    "plt.plot(np.arange(1,51),validation_scores,label='validation accuracy')\n",
    "plt.xticks(np.arange(1,51),rotation=90)\n",
    "plt.legend()\n",
    "plt.xlabel('K')\n",
    "plt.ylabel('mean cross validation accuracy')\n",
    "plt.title('mean cross validation accuracy vs K')\n",
    "plt.show()"
   ]
  },
  {
   "cell_type": "markdown",
   "metadata": {
    "id": "zw7Mh-rCmHn1"
   },
   "source": [
    "**From this plot, we can see that using top 5 features the best K value for scaled training data is 9.**"
   ]
  },
  {
   "cell_type": "markdown",
   "metadata": {
    "id": "k7QjKjHn2TZR"
   },
   "source": [
    "## Part 5: Test Data"
   ]
  },
  {
   "cell_type": "code",
   "execution_count": 38,
   "metadata": {
    "colab": {
     "base_uri": "https://localhost:8080/"
    },
    "id": "acdJ7EijBYqB",
    "outputId": "c9de50b2-9058-4161-ee65-45b2c8dea56a"
   },
   "outputs": [
    {
     "name": "stdout",
     "output_type": "stream",
     "text": [
      "The accuracy of test dataset is 0.9181286549707602\n"
     ]
    }
   ],
   "source": [
    "from sklearn.metrics import accuracy_score\n",
    "classifier = neighbors.KNeighborsClassifier(n_neighbors=9)\n",
    "classifier.fit(x_train_scaled[['worst texture','mean area','worst area','area error','mean fractal dimension']],np.array(y_train))\n",
    "predicts = classifier.predict(x_test_scaled[['worst texture','mean area','worst area','area error','mean fractal dimension']])\n",
    "print('The accuracy of test dataset is',accuracy_score(predicts,y_test))"
   ]
  },
  {
   "cell_type": "markdown",
   "metadata": {
    "id": "c9DgmiIsdUJX"
   },
   "source": [
    "*The accuracy on original training data with all features included is 93.9% and on scaled training data with all features included is 97.2%.*\n",
    "\n",
    "*But, when I select top 5 features from the dataset according to its importance we found from 'Feature selection' function, the accuracy on scaled train dataset is 94.7% which is more than the accuracy of unscaled trained data with all features included.*\n",
    "\n",
    "*And by training a model with best featues, best nearest neighbors and scaling the data (As KNN algorithm is sensitive to magnitudes and distances between data points), the model predicted **91.8%** of the data correctly.*"
   ]
  }
 ],
 "metadata": {
  "colab": {
   "collapsed_sections": [],
   "name": "APS1070_Project_1.ipynb",
   "provenance": []
  },
  "kernelspec": {
   "display_name": "Python 3 (ipykernel)",
   "language": "python",
   "name": "python3"
  },
  "language_info": {
   "codemirror_mode": {
    "name": "ipython",
    "version": 3
   },
   "file_extension": ".py",
   "mimetype": "text/x-python",
   "name": "python",
   "nbconvert_exporter": "python",
   "pygments_lexer": "ipython3",
   "version": "3.8.0"
  }
 },
 "nbformat": 4,
 "nbformat_minor": 1
}
